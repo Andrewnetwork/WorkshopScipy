{
 "cells": [
  {
   "cell_type": "markdown",
   "metadata": {
    "collapsed": true
   },
   "source": [
    "# SymPy Basics\n",
    "Adapted from: https://github.com/sympy/sympy/wiki/Quick-examples"
   ]
  },
  {
   "cell_type": "code",
   "execution_count": 1,
   "metadata": {
    "collapsed": true
   },
   "outputs": [],
   "source": [
    "from sympy import *\n",
    "from IPython.display import display\n",
    "init_printing(order=\"lex\",use_latex='mathjax')"
   ]
  },
  {
   "cell_type": "markdown",
   "metadata": {},
   "source": [
    "# Symbolic Expressions and Calculations"
   ]
  },
  {
   "cell_type": "code",
   "execution_count": 2,
   "metadata": {
    "collapsed": true
   },
   "outputs": [],
   "source": [
    "x, y, z, t = symbols('x y z t')\n",
    "k, m, n = symbols('k m n', integer=True)\n",
    "#f, g, h = map(Function, 'fgh')"
   ]
  },
  {
   "cell_type": "code",
   "execution_count": 3,
   "metadata": {
    "collapsed": false
   },
   "outputs": [
    {
     "data": {
      "text/latex": [
       "$$\\frac{3 \\pi}{2} + \\frac{e^{i x}}{x^{2} + y}$$"
      ],
      "text/plain": [
       "        ⅈ⋅x \n",
       "3⋅π    ℯ    \n",
       "─── + ──────\n",
       " 2     2    \n",
       "      x  + y"
      ]
     },
     "execution_count": 3,
     "metadata": {},
     "output_type": "execute_result"
    }
   ],
   "source": [
    "eqn = Rational(3,2)*pi + exp(I*x) / (x**2 + y)\n",
    "eqn"
   ]
  },
  {
   "cell_type": "code",
   "execution_count": 4,
   "metadata": {
    "collapsed": false
   },
   "outputs": [
    {
     "data": {
      "text/latex": [
       "$$\\frac{3 \\pi}{2} + \\frac{e^{3 i}}{y + 9}$$"
      ],
      "text/plain": [
       "        3⋅ⅈ\n",
       "3⋅π    ℯ   \n",
       "─── + ─────\n",
       " 2    y + 9"
      ]
     },
     "execution_count": 4,
     "metadata": {},
     "output_type": "execute_result"
    }
   ],
   "source": [
    "eqn.subs(x,3)"
   ]
  },
  {
   "cell_type": "code",
   "execution_count": 5,
   "metadata": {
    "collapsed": false
   },
   "outputs": [
    {
     "data": {
      "text/latex": [
       "$$-1.0$$"
      ],
      "text/plain": [
       "-1.00000000000000"
      ]
     },
     "execution_count": 5,
     "metadata": {},
     "output_type": "execute_result"
    }
   ],
   "source": [
    "exp(I*x).subs(x,pi).evalf()"
   ]
  },
  {
   "cell_type": "code",
   "execution_count": 6,
   "metadata": {
    "collapsed": false
   },
   "outputs": [
    {
     "data": {
      "text/latex": [
       "$$\\left ( x, \\quad 2 y\\right )$$"
      ],
      "text/plain": [
       "(x, 2⋅y)"
      ]
     },
     "execution_count": 6,
     "metadata": {},
     "output_type": "execute_result"
    }
   ],
   "source": [
    "expr = x + 2*y\n",
    "expr.args"
   ]
  },
  {
   "cell_type": "code",
   "execution_count": 7,
   "metadata": {
    "collapsed": false
   },
   "outputs": [
    {
     "data": {
      "text/latex": [
       "$$262537412640768743.99999999999925007259719818568888$$"
      ],
      "text/plain": [
       "262537412640768743.99999999999925007259719818568888"
      ]
     },
     "execution_count": 7,
     "metadata": {},
     "output_type": "execute_result"
    }
   ],
   "source": [
    "exp(pi * sqrt(163)).evalf(50)"
   ]
  },
  {
   "cell_type": "code",
   "execution_count": 8,
   "metadata": {
    "collapsed": false
   },
   "outputs": [
    {
     "data": {
      "text/latex": [
       "$$3.141592653589793238462643383279502884197169399375105820974944592307816406286208998628034825342117068$$"
      ],
      "text/plain": [
       "3.1415926535897932384626433832795028841971693993751058209749445923078164062862\n",
       "08998628034825342117068"
      ]
     },
     "execution_count": 8,
     "metadata": {},
     "output_type": "execute_result"
    }
   ],
   "source": [
    "N(pi,100)"
   ]
  },
  {
   "cell_type": "code",
   "execution_count": 9,
   "metadata": {
    "collapsed": false
   },
   "outputs": [
    {
     "data": {
      "text/plain": [
       "'\\\\frac{3 \\\\pi}{2} + \\\\frac{e^{i x}}{x^{2} + y}'"
      ]
     },
     "execution_count": 9,
     "metadata": {},
     "output_type": "execute_result"
    }
   ],
   "source": [
    "latex(S(eqn,evaluate=False))"
   ]
  },
  {
   "cell_type": "markdown",
   "metadata": {},
   "source": [
    "$$ \\frac{3 \\pi}{2} + \\frac{e^{i x}}{x^{2} + y}$$"
   ]
  },
  {
   "cell_type": "markdown",
   "metadata": {},
   "source": [
    "## Algebra"
   ]
  },
  {
   "cell_type": "code",
   "execution_count": 10,
   "metadata": {
    "collapsed": false
   },
   "outputs": [
    {
     "data": {
      "text/latex": [
       "$$x^{3} + 2 x^{2} y + x^{2} + x y^{2} + 2 x y + y^{2}$$"
      ],
      "text/plain": [
       " 3      2      2      2            2\n",
       "x  + 2⋅x ⋅y + x  + x⋅y  + 2⋅x⋅y + y "
      ]
     },
     "execution_count": 10,
     "metadata": {},
     "output_type": "execute_result"
    }
   ],
   "source": [
    "((x+y)**2 * (x+1)).expand()"
   ]
  },
  {
   "cell_type": "code",
   "execution_count": 11,
   "metadata": {
    "collapsed": false
   },
   "outputs": [
    {
     "data": {
      "text/latex": [
       "$$\\frac{1}{x} \\left(x \\sin{\\left (x \\right )} - 1\\right) + \\frac{1}{x}$$"
      ],
      "text/plain": [
       "x⋅sin(x) - 1   1\n",
       "──────────── + ─\n",
       "     x         x"
      ]
     },
     "execution_count": 11,
     "metadata": {},
     "output_type": "execute_result"
    }
   ],
   "source": [
    "a = 1/x + (x*sin(x) - 1)/x\n",
    "a"
   ]
  },
  {
   "cell_type": "code",
   "execution_count": 12,
   "metadata": {
    "collapsed": false
   },
   "outputs": [
    {
     "data": {
      "text/latex": [
       "$$\\sin{\\left (x \\right )}$$"
      ],
      "text/plain": [
       "sin(x)"
      ]
     },
     "execution_count": 12,
     "metadata": {},
     "output_type": "execute_result"
    }
   ],
   "source": [
    "a.simplify()"
   ]
  },
  {
   "cell_type": "code",
   "execution_count": 13,
   "metadata": {
    "collapsed": false
   },
   "outputs": [
    {
     "data": {
      "text/latex": [
       "$$x^{3} + 2 x^{2} + 4 x + 8 = 0$$"
      ],
      "text/plain": [
       " 3      2              \n",
       "x  + 2⋅x  + 4⋅x + 8 = 0"
      ]
     },
     "execution_count": 13,
     "metadata": {},
     "output_type": "execute_result"
    }
   ],
   "source": [
    "eqn = Eq(x**3 + 2*x**2 + 4*x + 8, 0)\n",
    "eqn"
   ]
  },
  {
   "cell_type": "code",
   "execution_count": 14,
   "metadata": {
    "collapsed": false
   },
   "outputs": [
    {
     "data": {
      "text/latex": [
       "$$\\left [ -2, \\quad - 2 i, \\quad 2 i\\right ]$$"
      ],
      "text/plain": [
       "[-2, -2⋅ⅈ, 2⋅ⅈ]"
      ]
     },
     "execution_count": 14,
     "metadata": {},
     "output_type": "execute_result"
    }
   ],
   "source": [
    "solve(eqn,x)"
   ]
  },
  {
   "cell_type": "code",
   "execution_count": 15,
   "metadata": {
    "collapsed": false
   },
   "outputs": [
    {
     "data": {
      "text/latex": [
       "$$x + 5 y = 2$$"
      ],
      "text/plain": [
       "x + 5⋅y = 2"
      ]
     },
     "metadata": {},
     "output_type": "display_data"
    },
    {
     "data": {
      "text/latex": [
       "$$- 3 x + 6 y = 15$$"
      ],
      "text/plain": [
       "-3⋅x + 6⋅y = 15"
      ]
     },
     "metadata": {},
     "output_type": "display_data"
    },
    {
     "data": {
      "text/latex": [
       "$$\\left \\{ x : -3, \\quad y : 1\\right \\}$$"
      ],
      "text/plain": [
       "{x: -3, y: 1}"
      ]
     },
     "execution_count": 15,
     "metadata": {},
     "output_type": "execute_result"
    }
   ],
   "source": [
    "eq1 = Eq(x + 5*y, 2)\n",
    "eq2 = Eq(-3*x + 6*y, 15)\n",
    "display(eq1)\n",
    "display(eq2)\n",
    "sln = solve([eq1, eq2], [x, y])\n",
    "sln"
   ]
  },
  {
   "cell_type": "code",
   "execution_count": 16,
   "metadata": {
    "collapsed": false
   },
   "outputs": [
    {
     "data": {
      "text/latex": [
       "$$\\mathrm{True}$$"
      ],
      "text/plain": [
       "True"
      ]
     },
     "metadata": {},
     "output_type": "display_data"
    },
    {
     "data": {
      "text/latex": [
       "$$\\mathrm{True}$$"
      ],
      "text/plain": [
       "True"
      ]
     },
     "metadata": {},
     "output_type": "display_data"
    }
   ],
   "source": [
    "display(eq1.subs(sln))\n",
    "display(eq2.subs(sln))"
   ]
  },
  {
   "cell_type": "markdown",
   "metadata": {},
   "source": [
    "## Recurrence Relations"
   ]
  },
  {
   "cell_type": "markdown",
   "metadata": {},
   "source": [
    "$$\n",
    "\\large\\begin{align}\n",
    "y_0 & =1 \\\\\n",
    "y_1 & =4 \\\\\n",
    "y_n & =y_n-2y_{n-1}+5y_{n-2} \n",
    "\\end{align}\n",
    "$$"
   ]
  },
  {
   "cell_type": "code",
   "execution_count": 17,
   "metadata": {
    "collapsed": false
   },
   "outputs": [
    {
     "data": {
      "text/latex": [
       "$$y{\\left (n \\right )} - 5 y{\\left (n - 2 \\right )} - 2 y{\\left (n - 1 \\right )}$$"
      ],
      "text/plain": [
       "y(n) - 5⋅y(n - 2) - 2⋅y(n - 1)"
      ]
     },
     "execution_count": 17,
     "metadata": {},
     "output_type": "execute_result"
    }
   ],
   "source": [
    "f=y(n)-2*y(n-1)-5*y(n-2)\n",
    "f"
   ]
  },
  {
   "cell_type": "code",
   "execution_count": 18,
   "metadata": {
    "collapsed": false
   },
   "outputs": [
    {
     "data": {
      "text/latex": [
       "$$\\left(\\frac{1}{2} + \\frac{\\sqrt{6}}{4}\\right) \\left(1 + \\sqrt{6}\\right)^{n} + \\left(- \\sqrt{6} + 1\\right)^{n} \\left(- \\frac{\\sqrt{6}}{4} + \\frac{1}{2}\\right)$$"
      ],
      "text/plain": [
       "⎛1   √6⎞         n            n ⎛  √6   1⎞\n",
       "⎜─ + ──⎟⋅(1 + √6)  + (-√6 + 1) ⋅⎜- ── + ─⎟\n",
       "⎝2   4 ⎠                        ⎝  4    2⎠"
      ]
     },
     "execution_count": 18,
     "metadata": {},
     "output_type": "execute_result"
    }
   ],
   "source": [
    "sln = rsolve(f,y(n),[1,4])\n",
    "sln"
   ]
  },
  {
   "cell_type": "code",
   "execution_count": 19,
   "metadata": {
    "collapsed": false
   },
   "outputs": [
    {
     "name": "stdout",
     "output_type": "stream",
     "text": [
      "1\n",
      "4\n",
      "13\n",
      "46\n",
      "157\n",
      "544\n",
      "1873\n",
      "6466\n",
      "22297\n",
      "76924\n"
     ]
    }
   ],
   "source": [
    "for i in range(0,10):\n",
    "    print(sln.subs(n,i).simplify())"
   ]
  },
  {
   "cell_type": "markdown",
   "metadata": {},
   "source": [
    "## Sums and Products"
   ]
  },
  {
   "cell_type": "code",
   "execution_count": 87,
   "metadata": {
    "collapsed": false
   },
   "outputs": [
    {
     "data": {
      "text/latex": [
       "$$\\sum_{n=a}^{b} \\left(2^{n} + 6 n^{2}\\right)$$"
      ],
      "text/plain": [
       "  b              \n",
       " ___             \n",
       " ╲               \n",
       "  ╲   ⎛ n      2⎞\n",
       "  ╱   ⎝2  + 6⋅n ⎠\n",
       " ╱               \n",
       " ‾‾‾             \n",
       "n = a            "
      ]
     },
     "execution_count": 87,
     "metadata": {},
     "output_type": "execute_result"
    }
   ],
   "source": [
    "a, b = symbols('a b')\n",
    "s = Sum(6*n**2 + 2**n, (n, a, b))\n",
    "s"
   ]
  },
  {
   "cell_type": "code",
   "execution_count": 90,
   "metadata": {
    "collapsed": false
   },
   "outputs": [
    {
     "data": {
      "text/latex": [
       "$$- 2^{a} + 2^{b + 1} - 2 a^{3} + 3 a^{2} - a + 2 b^{3} + 3 b^{2} + b$$"
      ],
      "text/plain": [
       "   a    b + 1      3      2          3      2    \n",
       "- 2  + 2      - 2⋅a  + 3⋅a  - a + 2⋅b  + 3⋅b  + b"
      ]
     },
     "execution_count": 90,
     "metadata": {},
     "output_type": "execute_result"
    }
   ],
   "source": [
    "s.doit()"
   ]
  },
  {
   "cell_type": "code",
   "execution_count": 92,
   "metadata": {
    "collapsed": false
   },
   "outputs": [
    {
     "data": {
      "text/latex": [
       "$$98$$"
      ],
      "text/plain": [
       "98"
      ]
     },
     "execution_count": 92,
     "metadata": {},
     "output_type": "execute_result"
    }
   ],
   "source": [
    "s.subs({b:3,a:1}).doit()"
   ]
  },
  {
   "cell_type": "code",
   "execution_count": 183,
   "metadata": {
    "collapsed": false
   },
   "outputs": [
    {
     "data": {
      "text/latex": [
       "$$\\frac{n}{2} \\left(n + 1\\right)$$"
      ],
      "text/plain": [
       "n⋅(n + 1)\n",
       "─────────\n",
       "    2    "
      ]
     },
     "execution_count": 183,
     "metadata": {},
     "output_type": "execute_result"
    }
   ],
   "source": [
    "Sum(b, (b, 1, n)).doit().factor()"
   ]
  },
  {
   "cell_type": "code",
   "execution_count": 173,
   "metadata": {
    "collapsed": false
   },
   "outputs": [
    {
     "data": {
      "text/latex": [
       "$$\\frac{b^{3}}{6} + \\frac{b^{2}}{2} + \\frac{b}{3}$$"
      ],
      "text/plain": [
       " 3    2    \n",
       "b    b    b\n",
       "── + ── + ─\n",
       "6    2    3"
      ]
     },
     "execution_count": 173,
     "metadata": {},
     "output_type": "execute_result"
    }
   ],
   "source": [
    "Sum(n*(n+1)/2,(n, 1, b)).doit()"
   ]
  },
  {
   "cell_type": "code",
   "execution_count": 172,
   "metadata": {
    "collapsed": false
   },
   "outputs": [
    {
     "name": "stdout",
     "output_type": "stream",
     "text": [
      "1\n",
      "4\n",
      "10\n",
      "20\n",
      "35\n",
      "56\n",
      "84\n",
      "120\n",
      "165\n"
     ]
    }
   ],
   "source": [
    "for i in range(1,10):\n",
    "    print(Sum(n*(n+1)/2, (n, 1, b)).doit().subs(b,i))"
   ]
  },
  {
   "cell_type": "code",
   "execution_count": 95,
   "metadata": {
    "collapsed": false
   },
   "outputs": [
    {
     "data": {
      "text/latex": [
       "$$\\frac{b^{2}}{2} + \\frac{b}{2}$$"
      ],
      "text/plain": [
       " 2    \n",
       "b    b\n",
       "── + ─\n",
       "2    2"
      ]
     },
     "execution_count": 95,
     "metadata": {},
     "output_type": "execute_result"
    }
   ],
   "source": [
    "Sum(n, (n, a, b)).subs(a,1).doit()"
   ]
  },
  {
   "cell_type": "code",
   "execution_count": 176,
   "metadata": {
    "collapsed": false
   },
   "outputs": [
    {
     "data": {
      "text/latex": [
       "$$\\frac{x}{6} \\left(x + 1\\right) \\left(x + 2\\right)$$"
      ],
      "text/plain": [
       "x⋅(x + 1)⋅(x + 2)\n",
       "─────────────────\n",
       "        6        "
      ]
     },
     "execution_count": 176,
     "metadata": {},
     "output_type": "execute_result"
    }
   ],
   "source": [
    "(x**3/6 + x**2/2 +x/3).factor()"
   ]
  },
  {
   "cell_type": "code",
   "execution_count": 98,
   "metadata": {
    "collapsed": false
   },
   "outputs": [
    {
     "data": {
      "text/latex": [
       "$${2}^{\\left(b\\right)} b!$$"
      ],
      "text/plain": [
       "RisingFactorial(2, b)⋅b!"
      ]
     },
     "execution_count": 98,
     "metadata": {},
     "output_type": "execute_result"
    }
   ],
   "source": [
    "product(n*(n+1), (n, 1, b))"
   ]
  },
  {
   "cell_type": "code",
   "execution_count": 103,
   "metadata": {
    "collapsed": true
   },
   "outputs": [],
   "source": [
    "f=Function('f')\n",
    "ex=Eq(f(1/x)-3*f(x),x)"
   ]
  },
  {
   "cell_type": "markdown",
   "metadata": {},
   "source": [
    "## Calculus"
   ]
  },
  {
   "cell_type": "markdown",
   "metadata": {},
   "source": [
    "$$\\lim_{x\\to 0} \\frac{\\sin x - x}{x^3} = -\\frac{1}{6}$$"
   ]
  },
  {
   "cell_type": "code",
   "execution_count": 111,
   "metadata": {
    "collapsed": false
   },
   "outputs": [
    {
     "data": {
      "text/latex": [
       "$$- \\frac{1}{6}$$"
      ],
      "text/plain": [
       "-1/6"
      ]
     },
     "execution_count": 111,
     "metadata": {},
     "output_type": "execute_result"
    }
   ],
   "source": [
    "((sin(x)-x)/x**3).limit(x,0)"
   ]
  },
  {
   "cell_type": "code",
   "execution_count": 109,
   "metadata": {
    "collapsed": false
   },
   "outputs": [
    {
     "data": {
      "text/latex": [
       "$$15 x^{2} + 2 x$$"
      ],
      "text/plain": [
       "    2      \n",
       "15⋅x  + 2⋅x"
      ]
     },
     "execution_count": 109,
     "metadata": {},
     "output_type": "execute_result"
    }
   ],
   "source": [
    "(x**2+5*x**3).diff(x)"
   ]
  },
  {
   "cell_type": "code",
   "execution_count": 120,
   "metadata": {
    "collapsed": false
   },
   "outputs": [
    {
     "data": {
      "text/latex": [
       "$$-\\infty$$"
      ],
      "text/plain": [
       "-∞"
      ]
     },
     "execution_count": 120,
     "metadata": {},
     "output_type": "execute_result"
    }
   ],
   "source": [
    "(-x).limit(x,oo)"
   ]
  },
  {
   "cell_type": "markdown",
   "metadata": {},
   "source": [
    "$$\\int x^2 \\cos x  \\ dx$$"
   ]
  },
  {
   "cell_type": "code",
   "execution_count": 121,
   "metadata": {
    "collapsed": false
   },
   "outputs": [
    {
     "data": {
      "text/latex": [
       "$$x^{2} \\sin{\\left (x \\right )} + 2 x \\cos{\\left (x \\right )} - 2 \\sin{\\left (x \\right )}$$"
      ],
      "text/plain": [
       " 2                               \n",
       "x ⋅sin(x) + 2⋅x⋅cos(x) - 2⋅sin(x)"
      ]
     },
     "execution_count": 121,
     "metadata": {},
     "output_type": "execute_result"
    }
   ],
   "source": [
    "(x**2 * cos(x)).integrate(x)"
   ]
  },
  {
   "cell_type": "markdown",
   "metadata": {},
   "source": [
    "$$\\int_0^{\\pi/2} x^2 \\cos x \\ dx$$"
   ]
  },
  {
   "cell_type": "code",
   "execution_count": 136,
   "metadata": {
    "collapsed": false
   },
   "outputs": [
    {
     "data": {
      "text/latex": [
       "$$-2 + \\frac{\\pi^{2}}{4}$$"
      ],
      "text/plain": [
       "      2\n",
       "     π \n",
       "-2 + ──\n",
       "     4 "
      ]
     },
     "execution_count": 136,
     "metadata": {},
     "output_type": "execute_result"
    }
   ],
   "source": [
    "integrate(x**2 * cos(x), (x, 0, pi/2))\n",
    "##(x**2 * cos(x)).integrate(x, 0, pi/2) does not work. "
   ]
  },
  {
   "cell_type": "markdown",
   "metadata": {},
   "source": [
    "$$  \\large f''(x) + 9 f(x) = 1 $$"
   ]
  },
  {
   "cell_type": "code",
   "execution_count": 139,
   "metadata": {
    "collapsed": false
   },
   "outputs": [
    {
     "data": {
      "text/latex": [
       "$$f{\\left (x \\right )} = C_{1} \\sin{\\left (3 x \\right )} + C_{2} \\cos{\\left (3 x \\right )} + \\frac{1}{9}$$"
      ],
      "text/plain": [
       "f(x) = C₁⋅sin(3⋅x) + C₂⋅cos(3⋅x) + 1/9"
      ]
     },
     "execution_count": 139,
     "metadata": {},
     "output_type": "execute_result"
    }
   ],
   "source": [
    "fn = dsolve(Eq(Derivative(f(x),x,x) + 9*f(x), 1), f(x))\n",
    "fn"
   ]
  },
  {
   "cell_type": "code",
   "execution_count": 153,
   "metadata": {
    "collapsed": false
   },
   "outputs": [
    {
     "data": {
      "text/latex": [
       "$$1.0$$"
      ],
      "text/plain": [
       "1.00000000000000"
      ]
     },
     "execution_count": 153,
     "metadata": {},
     "output_type": "execute_result"
    }
   ],
   "source": [
    "fla = 3*sin(3*x)+3*cos(3*x)+1/9\n",
    "fla.diff(x).diff(x).subs(x,3)+9*fla.subs(x,3)"
   ]
  },
  {
   "cell_type": "markdown",
   "metadata": {},
   "source": [
    "## Linear Algebra "
   ]
  }
 ],
 "metadata": {
  "kernelspec": {
   "display_name": "Python 3",
   "language": "python",
   "name": "python3"
  },
  "language_info": {
   "codemirror_mode": {
    "name": "ipython",
    "version": 3
   },
   "file_extension": ".py",
   "mimetype": "text/x-python",
   "name": "python",
   "nbconvert_exporter": "python",
   "pygments_lexer": "ipython3",
   "version": "3.6.0"
  }
 },
 "nbformat": 4,
 "nbformat_minor": 2
}
