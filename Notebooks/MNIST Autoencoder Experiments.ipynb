{
 "cells": [
  {
   "cell_type": "markdown",
   "metadata": {},
   "source": [
    "# MNIST Autoencoder Experiments\n",
    "** March 2018 **\n",
    "\n",
    "** Andrew Riberio @ [AndrewRib.com](http://www.andrewrib.com) **\n",
    "\n",
    "Resources\n",
    "* https://www.tensorflow.org/get_started/mnist/beginners\n",
    "* https://blog.keras.io/building-autoencoders-in-keras.html"
   ]
  },
  {
   "cell_type": "markdown",
   "metadata": {},
   "source": [
    "## 1. Libraries and Config"
   ]
  },
  {
   "cell_type": "code",
   "execution_count": 28,
   "metadata": {},
   "outputs": [],
   "source": [
    "import matplotlib.pyplot as plt\n",
    "import numpy as np\n",
    "from keras.layers import Input, Dense, Conv2D, MaxPooling2D, UpSampling2D\n",
    "from keras.models import Model\n",
    "from keras import losses\n",
    "from keras.callbacks import EarlyStopping\n",
    "from tensorflow.examples.tutorials.mnist import input_data\n",
    "from keras import backend as K\n",
    "import tensorflow as tf\n",
    "from ipywidgets import interact\n",
    "import pandas as pd\n",
    "from keras.models import load_model"
   ]
  },
  {
   "cell_type": "markdown",
   "metadata": {},
   "source": [
    "#### 1.2. Start tensorflow session and have keras use it. "
   ]
  },
  {
   "cell_type": "code",
   "execution_count": 29,
   "metadata": {},
   "outputs": [],
   "source": [
    "sess = tf.Session(config=tf.ConfigProto(log_device_placement=True))\n",
    "K.set_session(sess)"
   ]
  },
  {
   "cell_type": "markdown",
   "metadata": {},
   "source": [
    "## 2. Gathering and Working with MNIST Data"
   ]
  },
  {
   "cell_type": "markdown",
   "metadata": {},
   "source": [
    "#### 2.1. Loading the dataset object into the mnist variable and printing the dimensions of the data matrix and label vector. "
   ]
  },
  {
   "cell_type": "code",
   "execution_count": 30,
   "metadata": {},
   "outputs": [
    {
     "name": "stdout",
     "output_type": "stream",
     "text": [
      "Extracting MNIST_data/train-images-idx3-ubyte.gz\n",
      "Extracting MNIST_data/train-labels-idx1-ubyte.gz\n",
      "Extracting MNIST_data/t10k-images-idx3-ubyte.gz\n",
      "Extracting MNIST_data/t10k-labels-idx1-ubyte.gz\n",
      "Shape of the image data matrix: (55000, 784)\n",
      "Shape of the label data: (55000,)\n"
     ]
    }
   ],
   "source": [
    "mnist = input_data.read_data_sets(\"MNIST_data/\", one_hot=False)\n",
    "print(\"Shape of the image data matrix: {0}\".format(mnist.train.images.shape))\n",
    "print(\"Shape of the label data: {0}\".format(mnist.train.labels.shape))"
   ]
  },
  {
   "cell_type": "markdown",
   "metadata": {},
   "source": [
    "####  2.2. Visualizing an image in our training set. "
   ]
  },
  {
   "cell_type": "code",
   "execution_count": 31,
   "metadata": {},
   "outputs": [
    {
     "data": {
      "text/plain": [
       "<matplotlib.image.AxesImage at 0x1d201c76588>"
      ]
     },
     "execution_count": 31,
     "metadata": {},
     "output_type": "execute_result"
    },
    {
     "data": {
      "image/png": "[encoded data removed]",
      "text/plain": [
       "<matplotlib.figure.Figure at 0x1d201bb0f98>"
      ]
     },
     "metadata": {},
     "output_type": "display_data"
    }
   ],
   "source": [
    "exampleIndex = 3\n",
    "exImage      = mnist.train.images[exampleIndex ,:]\n",
    "exImageLabel = mnist.train.labels[exampleIndex]\n",
    "plt.imshow(exImage.reshape(28,28),cmap='gray')"
   ]
  },
  {
   "cell_type": "markdown",
   "metadata": {},
   "source": [
    "#### 2.3. Split images into digit class tensors."
   ]
  },
  {
   "cell_type": "code",
   "execution_count": 32,
   "metadata": {},
   "outputs": [
    {
     "name": "stdout",
     "output_type": "stream",
     "text": [
      "Digit 0 matrix shape: (5444, 784)\n",
      "Digit 1 matrix shape: (6179, 784)\n",
      "Digit 2 matrix shape: (5470, 784)\n",
      "Digit 3 matrix shape: (5638, 784)\n",
      "Digit 4 matrix shape: (5307, 784)\n",
      "Digit 5 matrix shape: (4987, 784)\n",
      "Digit 6 matrix shape: (5417, 784)\n",
      "Digit 7 matrix shape: (5715, 784)\n",
      "Digit 8 matrix shape: (5389, 784)\n",
      "Digit 9 matrix shape: (5454, 784)\n"
     ]
    }
   ],
   "source": [
    "# First we will zip the training labels with the training images\n",
    "dataWithLabels = zip(mnist.train.labels, mnist.train.images)\n",
    "\n",
    "# Now let's turn this into a dictionary where subsets of the images in respect \n",
    "# to digit class are stored via the corresponding key.\n",
    "\n",
    "# Init dataDict with keys [0,9] and empty lists.\n",
    "digitDict = {}\n",
    "for i in range(0,10):\n",
    "    digitDict[i] = []\n",
    "\n",
    "# Assign a list of image vectors to each corresponding digit class index. \n",
    "for i in dataWithLabels:\n",
    "    digitDict[i[0]].append(i[1])\n",
    "\n",
    "# Convert the lists into numpy matricies. (could be done above, but I claim ignorace)\n",
    "for i in range(0,10):\n",
    "    digitDict[i] = np.matrix(digitDict[i])\n",
    "    print(\"Digit {0} matrix shape: {1}\".format(i,digitDict[i].shape))"
   ]
  },
  {
   "cell_type": "markdown",
   "metadata": {},
   "source": [
    "## 3. Anomoly Detection for Non-Zero Class Digits"
   ]
  },
  {
   "cell_type": "markdown",
   "metadata": {},
   "source": [
    "#### 3.1. Compile a simple single layer non-convolutional autoencoder for the digit class 0. "
   ]
  },
  {
   "cell_type": "code",
   "execution_count": 33,
   "metadata": {},
   "outputs": [],
   "source": [
    "def simpleAE(encoding_dim = 32, input_dim = 784):\n",
    "\n",
    "    # this is our input placeholder\n",
    "    input_img = Input(shape=(input_dim,))\n",
    "    # \"encoded\" is the encoded representation of the input\n",
    "    encoded = Dense(encoding_dim, activation='relu')(input_img)\n",
    "    # \"decoded\" is the lossy reconstruction of the input\n",
    "    decoded = Dense(input_dim, activation='sigmoid')(encoded)\n",
    "\n",
    "    # this model maps an input to its reconstruction\n",
    "    return Model(input_img, decoded)"
   ]
  },
  {
   "cell_type": "code",
   "execution_count": 34,
   "metadata": {},
   "outputs": [],
   "source": [
    "ae1 = simpleAE(32,784)\n",
    "ae1.compile(optimizer='adadelta', loss='binary_crossentropy')"
   ]
  },
  {
   "cell_type": "markdown",
   "metadata": {},
   "source": [
    "#### 3.2. Train the autoencoder and log the loss over epoch history. "
   ]
  },
  {
   "cell_type": "code",
   "execution_count": 35,
   "metadata": {},
   "outputs": [
    {
     "name": "stdout",
     "output_type": "stream",
     "text": [
      "Loading model...\n",
      "Model not found. Training model..\n",
      "Epoch 1/100\n",
      "5444/5444 [==============================] - 27s 5ms/step - loss: 0.3117\n",
      "Epoch 2/100\n",
      "5444/5444 [==============================] - 2s 344us/step - loss: 0.2216\n",
      "Epoch 3/100\n",
      "5444/5444 [==============================] - 2s 337us/step - loss: 0.2002\n",
      "Epoch 4/100\n",
      "5444/5444 [==============================] - 2s 339us/step - loss: 0.1890\n",
      "Epoch 5/100\n",
      "5444/5444 [==============================] - 2s 373us/step - loss: 0.1801\n",
      "Epoch 6/100\n",
      "5444/5444 [==============================] - 2s 377us/step - loss: 0.1724\n",
      "Epoch 7/100\n",
      "5444/5444 [==============================] - 2s 337us/step - loss: 0.1659\n",
      "Epoch 8/100\n",
      "5444/5444 [==============================] - 2s 324us/step - loss: 0.1607\n",
      "Epoch 9/100\n",
      "5444/5444 [==============================] - 2s 326us/step - loss: 0.1563\n",
      "Epoch 10/100\n",
      "5444/5444 [==============================] - 2s 361us/step - loss: 0.1525\n",
      "Epoch 11/100\n",
      "5444/5444 [==============================] - 2s 345us/step - loss: 0.1488\n",
      "Epoch 12/100\n",
      "5444/5444 [==============================] - 2s 358us/step - loss: 0.1454\n",
      "Epoch 13/100\n",
      "5444/5444 [==============================] - 2s 349us/step - loss: 0.1422\n",
      "Epoch 14/100\n",
      "5444/5444 [==============================] - 2s 350us/step - loss: 0.1392\n",
      "Epoch 15/100\n",
      "5444/5444 [==============================] - 2s 336us/step - loss: 0.1364\n",
      "Epoch 16/100\n",
      "5444/5444 [==============================] - 2s 319us/step - loss: 0.1338\n",
      "Epoch 17/100\n",
      "5444/5444 [==============================] - 2s 313us/step - loss: 0.1314\n",
      "Epoch 18/100\n",
      "5444/5444 [==============================] - 2s 329us/step - loss: 0.1293\n",
      "Epoch 19/100\n",
      "5444/5444 [==============================] - 2s 315us/step - loss: 0.1273\n",
      "Epoch 20/100\n",
      "5444/5444 [==============================] - 2s 312us/step - loss: 0.1254\n",
      "Epoch 21/100\n",
      "5444/5444 [==============================] - 2s 308us/step - loss: 0.1237\n",
      "Epoch 22/100\n",
      "5444/5444 [==============================] - 2s 333us/step - loss: 0.1222\n",
      "Epoch 23/100\n",
      "5444/5444 [==============================] - 2s 368us/step - loss: 0.1207\n",
      "Epoch 24/100\n",
      "5444/5444 [==============================] - 2s 394us/step - loss: 0.1193\n",
      "Epoch 25/100\n",
      "5444/5444 [==============================] - 2s 336us/step - loss: 0.1180\n",
      "Epoch 26/100\n",
      "5444/5444 [==============================] - 2s 372us/step - loss: 0.1168\n",
      "Epoch 27/100\n",
      "5444/5444 [==============================] - 2s 338us/step - loss: 0.1157\n",
      "Epoch 28/100\n",
      "5444/5444 [==============================] - 2s 343us/step - loss: 0.1146\n",
      "Epoch 29/100\n",
      "5444/5444 [==============================] - 2s 351us/step - loss: 0.1137\n",
      "Epoch 30/100\n",
      "5444/5444 [==============================] - 2s 373us/step - loss: 0.1128\n",
      "Epoch 31/100\n",
      "5444/5444 [==============================] - 2s 391us/step - loss: 0.1120\n",
      "Epoch 32/100\n",
      "5444/5444 [==============================] - 2s 396us/step - loss: 0.1112\n",
      "Epoch 33/100\n",
      "5444/5444 [==============================] - 2s 334us/step - loss: 0.1105\n",
      "Epoch 34/100\n",
      "5444/5444 [==============================] - 2s 358us/step - loss: 0.1099\n",
      "Epoch 35/100\n",
      "5444/5444 [==============================] - 2s 297us/step - loss: 0.1092\n",
      "Epoch 36/100\n",
      "5444/5444 [==============================] - 2s 365us/step - loss: 0.1087\n",
      "Epoch 37/100\n",
      "5444/5444 [==============================] - 2s 400us/step - loss: 0.1082\n",
      "Epoch 38/100\n",
      "5444/5444 [==============================] - 2s 390us/step - loss: 0.1077\n",
      "Epoch 39/100\n",
      "5444/5444 [==============================] - 2s 399us/step - loss: 0.1072\n",
      "Epoch 40/100\n",
      "5444/5444 [==============================] - 2s 313us/step - loss: 0.1067\n",
      "Epoch 41/100\n",
      "5444/5444 [==============================] - 2s 355us/step - loss: 0.1063\n",
      "Epoch 42/100\n",
      "5444/5444 [==============================] - 2s 330us/step - loss: 0.1059\n",
      "Epoch 43/100\n",
      "5444/5444 [==============================] - 2s 297us/step - loss: 0.1056\n",
      "Epoch 44/100\n",
      "5444/5444 [==============================] - 2s 336us/step - loss: 0.1052\n",
      "Epoch 45/100\n",
      "5444/5444 [==============================] - 2s 354us/step - loss: 0.1048\n",
      "Epoch 46/100\n",
      "5444/5444 [==============================] - 2s 364us/step - loss: 0.1045\n",
      "Epoch 47/100\n",
      "5444/5444 [==============================] - 2s 368us/step - loss: 0.1042\n",
      "Epoch 48/100\n",
      "5444/5444 [==============================] - 2s 388us/step - loss: 0.1039\n",
      "Epoch 49/100\n",
      "5444/5444 [==============================] - 2s 369us/step - loss: 0.1036\n",
      "Epoch 50/100\n",
      "5444/5444 [==============================] - 2s 348us/step - loss: 0.1033\n",
      "Epoch 51/100\n",
      "5444/5444 [==============================] - 2s 324us/step - loss: 0.1030\n",
      "Epoch 52/100\n",
      "5444/5444 [==============================] - 2s 375us/step - loss: 0.1027\n",
      "Epoch 53/100\n",
      "5444/5444 [==============================] - 2s 374us/step - loss: 0.1025\n",
      "Epoch 54/100\n",
      "5444/5444 [==============================] - 2s 371us/step - loss: 0.1022\n",
      "Epoch 55/100\n",
      "5444/5444 [==============================] - 2s 384us/step - loss: 0.1020\n",
      "Epoch 56/100\n",
      "5444/5444 [==============================] - 2s 371us/step - loss: 0.1017\n",
      "Epoch 57/100\n",
      "5444/5444 [==============================] - 2s 369us/step - loss: 0.1015\n",
      "Epoch 58/100\n",
      "5444/5444 [==============================] - 2s 344us/step - loss: 0.1013\n",
      "Epoch 59/100\n",
      "5444/5444 [==============================] - 2s 333us/step - loss: 0.1011\n",
      "Epoch 60/100\n",
      "5444/5444 [==============================] - 2s 336us/step - loss: 0.1009\n",
      "Epoch 61/100\n",
      "5444/5444 [==============================] - 2s 327us/step - loss: 0.1007\n",
      "Epoch 62/100\n",
      "5444/5444 [==============================] - 2s 332us/step - loss: 0.1005\n",
      "Epoch 63/100\n",
      "5444/5444 [==============================] - 2s 352us/step - loss: 0.1003\n",
      "Epoch 64/100\n",
      "5444/5444 [==============================] - 2s 375us/step - loss: 0.1001\n",
      "Epoch 65/100\n",
      "5444/5444 [==============================] - 2s 356us/step - loss: 0.1000\n",
      "Epoch 66/100\n",
      "5444/5444 [==============================] - 2s 340us/step - loss: 0.0998\n",
      "Epoch 67/100\n",
      "5444/5444 [==============================] - 2s 324us/step - loss: 0.0996\n",
      "Epoch 68/100\n",
      "5444/5444 [==============================] - 2s 335us/step - loss: 0.0995\n",
      "Epoch 69/100\n",
      "5444/5444 [==============================] - 2s 325us/step - loss: 0.0993\n",
      "Epoch 70/100\n",
      "5444/5444 [==============================] - 2s 334us/step - loss: 0.0992\n",
      "Epoch 71/100\n",
      "5444/5444 [==============================] - 2s 324us/step - loss: 0.0990\n",
      "Epoch 72/100\n",
      "5444/5444 [==============================] - 2s 368us/step - loss: 0.0989\n",
      "Epoch 73/100\n",
      "5444/5444 [==============================] - 2s 346us/step - loss: 0.0988\n",
      "Epoch 74/100\n",
      "5444/5444 [==============================] - 2s 333us/step - loss: 0.0986\n",
      "Epoch 75/100\n",
      "5444/5444 [==============================] - 2s 316us/step - loss: 0.0985\n",
      "Epoch 76/100\n",
      "5444/5444 [==============================] - 2s 333us/step - loss: 0.0984\n",
      "Epoch 77/100\n",
      "5444/5444 [==============================] - 2s 320us/step - loss: 0.0983\n",
      "Epoch 78/100\n",
      "5444/5444 [==============================] - 2s 332us/step - loss: 0.0982\n",
      "Epoch 79/100\n",
      "5444/5444 [==============================] - 2s 308us/step - loss: 0.0980\n",
      "Epoch 80/100\n",
      "5444/5444 [==============================] - 2s 324us/step - loss: 0.0979\n",
      "Epoch 81/100\n",
      "5444/5444 [==============================] - 2s 361us/step - loss: 0.0978\n",
      "Epoch 82/100\n",
      "5444/5444 [==============================] - 2s 340us/step - loss: 0.0977\n",
      "Epoch 83/100\n",
      "5444/5444 [==============================] - 2s 329us/step - loss: 0.0976\n",
      "Epoch 84/100\n",
      "5444/5444 [==============================] - 2s 316us/step - loss: 0.0975\n",
      "Epoch 85/100\n",
      "5444/5444 [==============================] - 2s 311us/step - loss: 0.0975\n",
      "Epoch 86/100\n",
      "5444/5444 [==============================] - 2s 310us/step - loss: 0.0974\n",
      "Epoch 87/100\n",
      "5444/5444 [==============================] - 2s 303us/step - loss: 0.0973\n",
      "Epoch 88/100\n",
      "5444/5444 [==============================] - 2s 314us/step - loss: 0.0972\n",
      "Epoch 89/100\n",
      "5444/5444 [==============================] - 2s 304us/step - loss: 0.0971\n",
      "Epoch 90/100\n",
      "5444/5444 [==============================] - 2s 343us/step - loss: 0.0970\n",
      "Epoch 91/100\n",
      "5444/5444 [==============================] - 2s 331us/step - loss: 0.0970\n",
      "Epoch 92/100\n",
      "5444/5444 [==============================] - 2s 322us/step - loss: 0.0969\n",
      "Epoch 93/100\n",
      "5444/5444 [==============================] - 2s 302us/step - loss: 0.0968\n",
      "Epoch 94/100\n",
      "5444/5444 [==============================] - 2s 301us/step - loss: 0.0968\n",
      "Epoch 95/100\n",
      "5444/5444 [==============================] - 2s 299us/step - loss: 0.0967\n",
      "Epoch 96/100\n",
      "5444/5444 [==============================] - 2s 297us/step - loss: 0.0966\n",
      "Epoch 97/100\n",
      "5444/5444 [==============================] - 2s 301us/step - loss: 0.0966\n",
      "Epoch 98/100\n",
      "5444/5444 [==============================] - 2s 307us/step - loss: 0.0965\n",
      "Epoch 99/100\n",
      "5444/5444 [==============================] - 2s 316us/step - loss: 0.0965\n",
      "Epoch 100/100\n",
      "5444/5444 [==============================] - 2s 340us/step - loss: 0.0964\n",
      "Model Saved.\n"
     ]
    },
    {
     "data": {
      "image/png": "[encoded data removed]",
      "text/plain": [
       "<matplotlib.figure.Figure at 0x1d201ca6a58>"
      ]
     },
     "metadata": {},
     "output_type": "display_data"
    }
   ],
   "source": [
    "modelURI = \"models/mnist_zero_autoencoder_1.h5\"\n",
    "\n",
    "print(\"Loading model...\")\n",
    "\n",
    "try:\n",
    "    # Load model if found. \n",
    "    ae1 = load_model(modelURI)\n",
    "    print(\"Model found and loaded.\")\n",
    "except:\n",
    "    # Train model if model cannot be loaded. \n",
    "    print(\"Model not found. Training model..\")\n",
    "    \n",
    "    history = ae1.fit(digitDict[0], digitDict[0],\n",
    "                    epochs=100,\n",
    "                    batch_size=20,\n",
    "                    shuffle=True,verbose=1)\n",
    "    \n",
    "    # Save our Model\n",
    "    print(\"Model Saved.\")\n",
    "    ae1.save(modelURI)\n",
    "    \n",
    "    # summarize history for loss\n",
    "    plt.plot(history.history['loss'])\n",
    "    plt.title('model loss')\n",
    "    plt.ylabel('loss')\n",
    "    plt.xlabel('epoch')\n",
    "    plt.legend(['train', 'test'], loc='upper left')\n",
    "    plt.show()"
   ]
  },
  {
   "cell_type": "markdown",
   "metadata": {},
   "source": [
    "#### 3.3. Explore trained autoencoder reconstruction results ( Interactive )"
   ]
  },
  {
   "cell_type": "code",
   "execution_count": 36,
   "metadata": {},
   "outputs": [
    {
     "data": {
      "application/vnd.jupyter.widget-view+json": {
       "model_id": "51a991ec93894f9482721e0fc1253046",
       "version_major": 2,
       "version_minor": 0
      },
      "text/html": [
       "<p>Failed to display Jupyter Widget of type <code>interactive</code>.</p>\n",
       "<p>\n",
       "  If you're reading this message in the Jupyter Notebook or JupyterLab Notebook, it may mean\n",
       "  that the widgets JavaScript is still loading. If this message persists, it\n",
       "  likely means that the widgets JavaScript library is either not installed or\n",
       "  not enabled. See the <a href=\"https://ipywidgets.readthedocs.io/en/stable/user_install.html\">Jupyter\n",
       "  Widgets Documentation</a> for setup instructions.\n",
       "</p>\n",
       "<p>\n",
       "  If you're reading this message in another frontend (for example, a static\n",
       "  rendering on GitHub or <a href=\"https://nbviewer.jupyter.org/\">NBViewer</a>),\n",
       "  it may mean that your frontend doesn't currently support widgets.\n",
       "</p>\n"
      ],
      "text/plain": [
       "interactive(children=(IntSlider(value=0, description='digitClass', max=9), IntSlider(value=0, description='nthDigit', max=1000), Output()), _dom_classes=('widget-interact',))"
      ]
     },
     "metadata": {},
     "output_type": "display_data"
    },
    {
     "data": {
      "text/plain": [
       "<function __main__.dispRes1>"
      ]
     },
     "execution_count": 36,
     "metadata": {},
     "output_type": "execute_result"
    }
   ],
   "source": [
    "def dispRes1(digitClass=0,nthDigit=0):\n",
    "    actual = digitDict[digitClass][nthDigit,:]\n",
    "    pred = ae1.predict(actual)\n",
    "    res = losses.mean_absolute_error(actual,pred)\n",
    "    \n",
    "    fig = plt.figure(figsize=(10, 10))\n",
    "    fig.suptitle(\"Mean Absolute Reconstruction Error: {0:.5}%\".format(sess.run(res)[0]*100), fontsize=16,y=0.73)\n",
    "    \n",
    "    ax1 = fig.add_subplot(1,2,1)\n",
    "    ax1.axis('off')\n",
    "    ax1.set_title(\"Original Image\")\n",
    "    ax1.imshow(actual.reshape(28,28),cmap=\"gray\")\n",
    "    \n",
    "    ax2 = fig.add_subplot(1,2,2)\n",
    "    ax2.axis('off')\n",
    "    ax2.set_title(\"Reconstructed Image\")\n",
    "    ax2.imshow(pred.reshape(28,28),cmap=\"gray\")\n",
    "    \n",
    "    plt.show()\n",
    "    \n",
    "interact(dispRes1,digitClass=(0,9),nthDigit=(0,1000))"
   ]
  },
  {
   "cell_type": "markdown",
   "metadata": {},
   "source": [
    "#### 3.4. Reconstruction Error Distributions ( Interactive )\n",
    "We will now explore the reconstruction error distributions over the digit classes. "
   ]
  },
  {
   "cell_type": "code",
   "execution_count": 37,
   "metadata": {},
   "outputs": [],
   "source": [
    "classLosses = []\n",
    "for digitClass in range(0,10):\n",
    "    lossTensor = losses.mean_absolute_error(digitDict[digitClass],ae1.predict(digitDict[digitClass]))\n",
    "    res = sess.run(lossTensor)\n",
    "    res.sort()\n",
    "    classLosses.append(res)"
   ]
  },
  {
   "cell_type": "code",
   "execution_count": 69,
   "metadata": {},
   "outputs": [
    {
     "data": {
      "application/vnd.jupyter.widget-view+json": {
       "model_id": "9f0a689cc71041449aa09e8ade19d16b",
       "version_major": 2,
       "version_minor": 0
      },
      "text/html": [
       "<p>Failed to display Jupyter Widget of type <code>interactive</code>.</p>\n",
       "<p>\n",
       "  If you're reading this message in the Jupyter Notebook or JupyterLab Notebook, it may mean\n",
       "  that the widgets JavaScript is still loading. If this message persists, it\n",
       "  likely means that the widgets JavaScript library is either not installed or\n",
       "  not enabled. See the <a href=\"https://ipywidgets.readthedocs.io/en/stable/user_install.html\">Jupyter\n",
       "  Widgets Documentation</a> for setup instructions.\n",
       "</p>\n",
       "<p>\n",
       "  If you're reading this message in another frontend (for example, a static\n",
       "  rendering on GitHub or <a href=\"https://nbviewer.jupyter.org/\">NBViewer</a>),\n",
       "  it may mean that your frontend doesn't currently support widgets.\n",
       "</p>\n"
      ],
      "text/plain": [
       "interactive(children=(IntSlider(value=0, description='digitClass', max=9), Output()), _dom_classes=('widget-interact',))"
      ]
     },
     "metadata": {},
     "output_type": "display_data"
    },
    {
     "data": {
      "text/plain": [
       "<function __main__.dispDists>"
      ]
     },
     "execution_count": 69,
     "metadata": {},
     "output_type": "execute_result"
    }
   ],
   "source": [
    "def dispDists(digitClass=0):\n",
    "    l = len(classLosses[digitClass])\n",
    "    plt.figure(figsize=(6, 6))\n",
    "    plt.hist(classLosses[digitClass],bins=20,range=(0, 0.125))\n",
    "    \n",
    "interact(dispDists,digitClass=(0,9))"
   ]
  },
  {
   "cell_type": "markdown",
   "metadata": {},
   "source": [
    "We will now plot the histograms of the reconstruction error distributions over the digit classes."
   ]
  },
  {
   "cell_type": "code",
   "execution_count": 52,
   "metadata": {},
   "outputs": [
    {
     "data": {
      "image/png": "[encoded data removed]",
      "text/plain": [
       "<matplotlib.figure.Figure at 0x1d20a6f8a58>"
      ]
     },
     "metadata": {},
     "output_type": "display_data"
    }
   ],
   "source": [
    "plt.figure(figsize=(10, 10))\n",
    "for digitClass in range(0,10):\n",
    "    l = len(classLosses[digitClass])\n",
    "    plt.legend(['0','1','2','3','4','5','6','7','8','9'], loc='upper right')\n",
    "    plt.hist(classLosses[digitClass],bins=20,range=(0, 0.125))"
   ]
  },
  {
   "cell_type": "code",
   "execution_count": 61,
   "metadata": {},
   "outputs": [
    {
     "data": {
      "text/html": [
       "<div>\n",
       "<style scoped>\n",
       "    .dataframe tbody tr th:only-of-type {\n",
       "        vertical-align: middle;\n",
       "    }\n",
       "\n",
       "    .dataframe tbody tr th {\n",
       "        vertical-align: top;\n",
       "    }\n",
       "\n",
       "    .dataframe thead th {\n",
       "        text-align: right;\n",
       "    }\n",
       "</style>\n",
       "<table border=\"1\" class=\"dataframe\">\n",
       "  <thead>\n",
       "    <tr style=\"text-align: right;\">\n",
       "      <th></th>\n",
       "      <th>0</th>\n",
       "      <th>1</th>\n",
       "      <th>2</th>\n",
       "      <th>3</th>\n",
       "      <th>4</th>\n",
       "      <th>5</th>\n",
       "      <th>6</th>\n",
       "      <th>7</th>\n",
       "      <th>8</th>\n",
       "      <th>9</th>\n",
       "    </tr>\n",
       "  </thead>\n",
       "  <tbody>\n",
       "    <tr>\n",
       "      <th>count</th>\n",
       "      <td>5444.000000</td>\n",
       "      <td>6179.000000</td>\n",
       "      <td>5470.000000</td>\n",
       "      <td>5638.000000</td>\n",
       "      <td>5307.000000</td>\n",
       "      <td>4987.000000</td>\n",
       "      <td>5417.000000</td>\n",
       "      <td>5715.000000</td>\n",
       "      <td>5389.000000</td>\n",
       "      <td>5454.000000</td>\n",
       "    </tr>\n",
       "    <tr>\n",
       "      <th>mean</th>\n",
       "      <td>0.029306</td>\n",
       "      <td>0.065315</td>\n",
       "      <td>0.073474</td>\n",
       "      <td>0.064535</td>\n",
       "      <td>0.080972</td>\n",
       "      <td>0.065677</td>\n",
       "      <td>0.059217</td>\n",
       "      <td>0.066122</td>\n",
       "      <td>0.073942</td>\n",
       "      <td>0.072608</td>\n",
       "    </tr>\n",
       "    <tr>\n",
       "      <th>std</th>\n",
       "      <td>0.007982</td>\n",
       "      <td>0.013195</td>\n",
       "      <td>0.014789</td>\n",
       "      <td>0.015778</td>\n",
       "      <td>0.014503</td>\n",
       "      <td>0.014142</td>\n",
       "      <td>0.014005</td>\n",
       "      <td>0.014657</td>\n",
       "      <td>0.015745</td>\n",
       "      <td>0.013279</td>\n",
       "    </tr>\n",
       "    <tr>\n",
       "      <th>min</th>\n",
       "      <td>0.013538</td>\n",
       "      <td>0.027728</td>\n",
       "      <td>0.027301</td>\n",
       "      <td>0.028797</td>\n",
       "      <td>0.041657</td>\n",
       "      <td>0.030978</td>\n",
       "      <td>0.023682</td>\n",
       "      <td>0.034031</td>\n",
       "      <td>0.022626</td>\n",
       "      <td>0.034732</td>\n",
       "    </tr>\n",
       "    <tr>\n",
       "      <th>25%</th>\n",
       "      <td>0.023818</td>\n",
       "      <td>0.056027</td>\n",
       "      <td>0.063047</td>\n",
       "      <td>0.052995</td>\n",
       "      <td>0.071128</td>\n",
       "      <td>0.055990</td>\n",
       "      <td>0.049775</td>\n",
       "      <td>0.055570</td>\n",
       "      <td>0.063044</td>\n",
       "      <td>0.064141</td>\n",
       "    </tr>\n",
       "    <tr>\n",
       "      <th>50%</th>\n",
       "      <td>0.027657</td>\n",
       "      <td>0.064640</td>\n",
       "      <td>0.072793</td>\n",
       "      <td>0.062698</td>\n",
       "      <td>0.079034</td>\n",
       "      <td>0.063830</td>\n",
       "      <td>0.057755</td>\n",
       "      <td>0.064310</td>\n",
       "      <td>0.072251</td>\n",
       "      <td>0.070906</td>\n",
       "    </tr>\n",
       "    <tr>\n",
       "      <th>75%</th>\n",
       "      <td>0.033150</td>\n",
       "      <td>0.073435</td>\n",
       "      <td>0.082812</td>\n",
       "      <td>0.073633</td>\n",
       "      <td>0.089384</td>\n",
       "      <td>0.073127</td>\n",
       "      <td>0.066631</td>\n",
       "      <td>0.074974</td>\n",
       "      <td>0.083256</td>\n",
       "      <td>0.079083</td>\n",
       "    </tr>\n",
       "    <tr>\n",
       "      <th>max</th>\n",
       "      <td>0.082767</td>\n",
       "      <td>0.141858</td>\n",
       "      <td>0.155676</td>\n",
       "      <td>0.154880</td>\n",
       "      <td>0.156735</td>\n",
       "      <td>0.141211</td>\n",
       "      <td>0.147742</td>\n",
       "      <td>0.149392</td>\n",
       "      <td>0.180560</td>\n",
       "      <td>0.142645</td>\n",
       "    </tr>\n",
       "  </tbody>\n",
       "</table>\n",
       "</div>"
      ],
      "text/plain": [
       "                 0            1            2            3            4  \\\n",
       "count  5444.000000  6179.000000  5470.000000  5638.000000  5307.000000   \n",
       "mean      0.029306     0.065315     0.073474     0.064535     0.080972   \n",
       "std       0.007982     0.013195     0.014789     0.015778     0.014503   \n",
       "min       0.013538     0.027728     0.027301     0.028797     0.041657   \n",
       "25%       0.023818     0.056027     0.063047     0.052995     0.071128   \n",
       "50%       0.027657     0.064640     0.072793     0.062698     0.079034   \n",
       "75%       0.033150     0.073435     0.082812     0.073633     0.089384   \n",
       "max       0.082767     0.141858     0.155676     0.154880     0.156735   \n",
       "\n",
       "                 5            6            7            8            9  \n",
       "count  4987.000000  5417.000000  5715.000000  5389.000000  5454.000000  \n",
       "mean      0.065677     0.059217     0.066122     0.073942     0.072608  \n",
       "std       0.014142     0.014005     0.014657     0.015745     0.013279  \n",
       "min       0.030978     0.023682     0.034031     0.022626     0.034732  \n",
       "25%       0.055990     0.049775     0.055570     0.063044     0.064141  \n",
       "50%       0.063830     0.057755     0.064310     0.072251     0.070906  \n",
       "75%       0.073127     0.066631     0.074974     0.083256     0.079083  \n",
       "max       0.141211     0.147742     0.149392     0.180560     0.142645  "
      ]
     },
     "execution_count": 61,
     "metadata": {},
     "output_type": "execute_result"
    }
   ],
   "source": [
    "# Summary Statistics for Digit Reconstruction Loss\n",
    "pd.DataFrame(classLosses).transpose().describe()"
   ]
  },
  {
   "cell_type": "markdown",
   "metadata": {},
   "source": [
    "#### 3.5. Classify reconstruction loss. "
   ]
  },
  {
   "cell_type": "code",
   "execution_count": 107,
   "metadata": {},
   "outputs": [],
   "source": [
    "def simpleNN(encoding_dim = 10, input_dim = 1):\n",
    "\n",
    "    # this is our input placeholder\n",
    "    input_img = Input(shape=(input_dim,))\n",
    "    # \"encoded\" is the encoded representation of the input\n",
    "    encoded = Dense(encoding_dim, activation='relu')(input_img)\n",
    "    # \"decoded\" is the lossy reconstruction of the input\n",
    "    decoded = Dense(1, activation='sigmoid')(encoded)\n",
    "\n",
    "    # this model maps an input to its reconstruction\n",
    "    return Model(input_img, decoded)"
   ]
  },
  {
   "cell_type": "code",
   "execution_count": 102,
   "metadata": {},
   "outputs": [],
   "source": [
    "zeroClass = classLosses[0]\n",
    "otherClass = np.concatenate(classLosses[1:10])\n",
    "labels = np.concatenate([np.zeros(len(zeroClass)),np.ones(len(otherClass))])\n",
    "data = np.concatenate([zeroClass,otherClass])"
   ]
  },
  {
   "cell_type": "code",
   "execution_count": 110,
   "metadata": {},
   "outputs": [
    {
     "name": "stdout",
     "output_type": "stream",
     "text": [
      "Epoch 1/100\n",
      "55000/55000 [==============================] - 17s 301us/step - loss: 0.2888\n",
      "Epoch 2/100\n",
      "55000/55000 [==============================] - 3s 63us/step - loss: 0.1461\n",
      "Epoch 3/100\n",
      "55000/55000 [==============================] - 4s 64us/step - loss: 0.0870\n",
      "Epoch 4/100\n",
      "55000/55000 [==============================] - 4s 66us/step - loss: 0.0729\n",
      "Epoch 5/100\n",
      "55000/55000 [==============================] - 5s 98us/step - loss: 0.0674\n",
      "Epoch 6/100\n",
      "55000/55000 [==============================] - 4s 68us/step - loss: 0.0649\n",
      "Epoch 7/100\n",
      "55000/55000 [==============================] - 4s 71us/step - loss: 0.0634\n",
      "Epoch 8/100\n",
      "55000/55000 [==============================] - 4s 77us/step - loss: 0.0625\n",
      "Epoch 9/100\n",
      "55000/55000 [==============================] - 4s 72us/step - loss: 0.0619\n",
      "Epoch 10/100\n",
      "55000/55000 [==============================] - 4s 72us/step - loss: 0.0615\n",
      "Epoch 11/100\n",
      "55000/55000 [==============================] - 4s 73us/step - loss: 0.0611\n",
      "Epoch 12/100\n",
      "55000/55000 [==============================] - 5s 88us/step - loss: 0.0610\n",
      "Epoch 13/100\n",
      "55000/55000 [==============================] - 4s 75us/step - loss: 0.0609\n",
      "Epoch 14/100\n",
      "55000/55000 [==============================] - 4s 71us/step - loss: 0.0608\n",
      "Epoch 15/100\n",
      "55000/55000 [==============================] - 4s 72us/step - loss: 0.0607\n",
      "Epoch 16/100\n",
      "55000/55000 [==============================] - 5s 83us/step - loss: 0.0606\n",
      "Epoch 17/100\n",
      "55000/55000 [==============================] - 4s 73us/step - loss: 0.0606\n",
      "Epoch 18/100\n",
      "55000/55000 [==============================] - 4s 73us/step - loss: 0.0606\n",
      "Epoch 19/100\n",
      "55000/55000 [==============================] - 4s 72us/step - loss: 0.0606\n",
      "Epoch 20/100\n",
      "55000/55000 [==============================] - 5s 84us/step - loss: 0.0605\n",
      "Epoch 21/100\n",
      "55000/55000 [==============================] - 5s 83us/step - loss: 0.0604\n",
      "Epoch 22/100\n",
      "55000/55000 [==============================] - 4s 74us/step - loss: 0.0605\n",
      "Epoch 23/100\n",
      "55000/55000 [==============================] - 4s 79us/step - loss: 0.0605\n",
      "Epoch 24/100\n",
      "55000/55000 [==============================] - 5s 86us/step - loss: 0.0605\n",
      "Epoch 25/100\n",
      "55000/55000 [==============================] - 4s 75us/step - loss: 0.0605\n",
      "Epoch 26/100\n",
      "55000/55000 [==============================] - 4s 74us/step - loss: 0.0605\n",
      "Epoch 27/100\n",
      "55000/55000 [==============================] - 5s 83us/step - loss: 0.0604\n",
      "Epoch 28/100\n",
      "55000/55000 [==============================] - 4s 78us/step - loss: 0.0605\n",
      "Epoch 29/100\n",
      "55000/55000 [==============================] - 4s 75us/step - loss: 0.0605\n",
      "Epoch 30/100\n",
      "55000/55000 [==============================] - 4s 75us/step - loss: 0.0604\n",
      "Epoch 31/100\n",
      "55000/55000 [==============================] - 5s 83us/step - loss: 0.0604\n",
      "Epoch 32/100\n",
      "55000/55000 [==============================] - 4s 76us/step - loss: 0.0605\n",
      "Epoch 33/100\n",
      "55000/55000 [==============================] - 4s 75us/step - loss: 0.0605\n",
      "Epoch 34/100\n",
      "55000/55000 [==============================] - 4s 76us/step - loss: 0.0603\n",
      "Epoch 35/100\n",
      "55000/55000 [==============================] - 5s 82us/step - loss: 0.0605\n",
      "Epoch 36/100\n",
      "55000/55000 [==============================] - 4s 75us/step - loss: 0.0605\n",
      "Epoch 37/100\n",
      "55000/55000 [==============================] - 4s 76us/step - loss: 0.0604\n",
      "Epoch 38/100\n",
      "55000/55000 [==============================] - 4s 78us/step - loss: 0.0605\n",
      "Epoch 39/100\n",
      "55000/55000 [==============================] - 4s 81us/step - loss: 0.0605\n",
      "Epoch 40/100\n",
      "55000/55000 [==============================] - 4s 75us/step - loss: 0.0605\n",
      "Epoch 41/100\n",
      "55000/55000 [==============================] - 4s 76us/step - loss: 0.0605\n",
      "Epoch 42/100\n",
      "55000/55000 [==============================] - 4s 80us/step - loss: 0.0604\n",
      "Epoch 43/100\n",
      "55000/55000 [==============================] - 4s 77us/step - loss: 0.0604\n",
      "Epoch 44/100\n",
      "55000/55000 [==============================] - 4s 75us/step - loss: 0.0604\n",
      "Epoch 45/100\n",
      "55000/55000 [==============================] - 4s 76us/step - loss: 0.0605\n",
      "Epoch 46/100\n",
      "55000/55000 [==============================] - 4s 81us/step - loss: 0.0605\n",
      "Epoch 47/100\n",
      "55000/55000 [==============================] - 4s 74us/step - loss: 0.0604\n",
      "Epoch 48/100\n",
      "55000/55000 [==============================] - 4s 74us/step - loss: 0.0604\n",
      "Epoch 49/100\n",
      "55000/55000 [==============================] - 4s 74us/step - loss: 0.0604\n",
      "Epoch 50/100\n",
      "55000/55000 [==============================] - 4s 80us/step - loss: 0.0605\n",
      "Epoch 51/100\n",
      "55000/55000 [==============================] - 4s 73us/step - loss: 0.0605\n",
      "Epoch 52/100\n",
      "55000/55000 [==============================] - 4s 73us/step - loss: 0.0604\n",
      "Epoch 53/100\n",
      "55000/55000 [==============================] - 4s 72us/step - loss: 0.0604\n",
      "Epoch 54/100\n",
      "55000/55000 [==============================] - 4s 78us/step - loss: 0.0604\n",
      "Epoch 55/100\n",
      "55000/55000 [==============================] - 4s 71us/step - loss: 0.0605\n",
      "Epoch 56/100\n",
      "55000/55000 [==============================] - 4s 72us/step - loss: 0.0605\n",
      "Epoch 57/100\n",
      "55000/55000 [==============================] - 4s 71us/step - loss: 0.0604\n",
      "Epoch 58/100\n",
      "55000/55000 [==============================] - 4s 76us/step - loss: 0.0603\n",
      "Epoch 59/100\n",
      "55000/55000 [==============================] - 4s 70us/step - loss: 0.0605\n",
      "Epoch 60/100\n",
      "55000/55000 [==============================] - 4s 71us/step - loss: 0.0604\n",
      "Epoch 61/100\n",
      "55000/55000 [==============================] - 4s 69us/step - loss: 0.0604\n",
      "Epoch 62/100\n",
      "55000/55000 [==============================] - 4s 75us/step - loss: 0.0603\n",
      "Epoch 63/100\n",
      "55000/55000 [==============================] - 4s 70us/step - loss: 0.0605\n",
      "Epoch 64/100\n",
      "55000/55000 [==============================] - 4s 69us/step - loss: 0.0605\n",
      "Epoch 65/100\n",
      "55000/55000 [==============================] - 4s 68us/step - loss: 0.0604\n",
      "Epoch 66/100\n",
      "55000/55000 [==============================] - 4s 75us/step - loss: 0.0603\n",
      "Epoch 67/100\n",
      "55000/55000 [==============================] - 4s 67us/step - loss: 0.0604\n",
      "Epoch 68/100\n",
      "55000/55000 [==============================] - 4s 68us/step - loss: 0.0604\n",
      "Epoch 69/100\n",
      "55000/55000 [==============================] - 4s 71us/step - loss: 0.0603\n",
      "Epoch 70/100\n",
      "55000/55000 [==============================] - 4s 74us/step - loss: 0.0604\n",
      "Epoch 71/100\n",
      "55000/55000 [==============================] - 4s 68us/step - loss: 0.0604\n",
      "Epoch 72/100\n",
      "55000/55000 [==============================] - 4s 68us/step - loss: 0.0605\n",
      "Epoch 73/100\n",
      "55000/55000 [==============================] - 4s 66us/step - loss: 0.0604\n",
      "Epoch 74/100\n",
      "55000/55000 [==============================] - 4s 71us/step - loss: 0.0605\n",
      "Epoch 75/100\n",
      "55000/55000 [==============================] - 4s 68us/step - loss: 0.0605\n",
      "Epoch 76/100\n",
      "55000/55000 [==============================] - 4s 66us/step - loss: 0.0604\n",
      "Epoch 77/100\n",
      "55000/55000 [==============================] - 4s 66us/step - loss: 0.0605\n",
      "Epoch 78/100\n",
      "55000/55000 [==============================] - 4s 65us/step - loss: 0.0604\n",
      "Epoch 79/100\n",
      "55000/55000 [==============================] - 4s 71us/step - loss: 0.0604\n",
      "Epoch 80/100\n",
      "55000/55000 [==============================] - 4s 65us/step - loss: 0.0604\n",
      "Epoch 81/100\n",
      "55000/55000 [==============================] - 4s 65us/step - loss: 0.0604\n",
      "Epoch 82/100\n",
      "55000/55000 [==============================] - 4s 64us/step - loss: 0.0604\n",
      "Epoch 83/100\n",
      "55000/55000 [==============================] - 4s 70us/step - loss: 0.0603\n",
      "Epoch 84/100\n",
      "55000/55000 [==============================] - 4s 64us/step - loss: 0.0604\n",
      "Epoch 85/100\n",
      "55000/55000 [==============================] - 4s 64us/step - loss: 0.0603\n",
      "Epoch 86/100\n",
      "55000/55000 [==============================] - 4s 65us/step - loss: 0.0604\n",
      "Epoch 87/100\n",
      "55000/55000 [==============================] - 4s 66us/step - loss: 0.0604\n",
      "Epoch 88/100\n",
      "55000/55000 [==============================] - 4s 68us/step - loss: 0.0603\n",
      "Epoch 89/100\n",
      "55000/55000 [==============================] - 4s 65us/step - loss: 0.0604\n",
      "Epoch 90/100\n",
      "55000/55000 [==============================] - 3s 62us/step - loss: 0.0603\n",
      "Epoch 91/100\n",
      "55000/55000 [==============================] - 3s 62us/step - loss: 0.0604\n",
      "Epoch 92/100\n",
      "55000/55000 [==============================] - 4s 69us/step - loss: 0.0603\n",
      "Epoch 93/100\n",
      "55000/55000 [==============================] - 3s 62us/step - loss: 0.0603\n",
      "Epoch 94/100\n",
      "55000/55000 [==============================] - 4s 65us/step - loss: 0.0604\n",
      "Epoch 95/100\n",
      "55000/55000 [==============================] - 4s 66us/step - loss: 0.0604\n",
      "Epoch 96/100\n",
      "55000/55000 [==============================] - 3s 63us/step - loss: 0.0604\n",
      "Epoch 97/100\n",
      "55000/55000 [==============================] - 4s 67us/step - loss: 0.0604\n",
      "Epoch 98/100\n",
      "55000/55000 [==============================] - 3s 61us/step - loss: 0.0604\n",
      "Epoch 99/100\n",
      "55000/55000 [==============================] - 3s 62us/step - loss: 0.0603\n",
      "Epoch 100/100\n",
      "55000/55000 [==============================] - 3s 61us/step - loss: 0.0604\n"
     ]
    },
    {
     "data": {
      "text/plain": [
       "<keras.callbacks.History at 0x1d21a3b09e8>"
      ]
     },
     "execution_count": 110,
     "metadata": {},
     "output_type": "execute_result"
    }
   ],
   "source": [
    "snn = simpleNN()\n",
    "snn.compile(optimizer='adadelta', loss='binary_crossentropy')\n",
    "snn.fit(data, labels,\n",
    "                    epochs=100,\n",
    "                    batch_size=20,\n",
    "                    shuffle=True,verbose=1)"
   ]
  },
  {
   "cell_type": "code",
   "execution_count": 145,
   "metadata": {},
   "outputs": [
    {
     "data": {
      "application/vnd.jupyter.widget-view+json": {
       "model_id": "d469ad8662564b469c91b5eaf9aabcae",
       "version_major": 2,
       "version_minor": 0
      },
      "text/html": [
       "<p>Failed to display Jupyter Widget of type <code>interactive</code>.</p>\n",
       "<p>\n",
       "  If you're reading this message in the Jupyter Notebook or JupyterLab Notebook, it may mean\n",
       "  that the widgets JavaScript is still loading. If this message persists, it\n",
       "  likely means that the widgets JavaScript library is either not installed or\n",
       "  not enabled. See the <a href=\"https://ipywidgets.readthedocs.io/en/stable/user_install.html\">Jupyter\n",
       "  Widgets Documentation</a> for setup instructions.\n",
       "</p>\n",
       "<p>\n",
       "  If you're reading this message in another frontend (for example, a static\n",
       "  rendering on GitHub or <a href=\"https://nbviewer.jupyter.org/\">NBViewer</a>),\n",
       "  it may mean that your frontend doesn't currently support widgets.\n",
       "</p>\n"
      ],
      "text/plain": [
       "interactive(children=(IntSlider(value=0, description='digitClass', max=9), IntSlider(value=0, description='nthDigit', max=1000), Output()), _dom_classes=('widget-interact',))"
      ]
     },
     "metadata": {},
     "output_type": "display_data"
    },
    {
     "data": {
      "text/plain": [
       "<function __main__.dispRes1>"
      ]
     },
     "execution_count": 145,
     "metadata": {},
     "output_type": "execute_result"
    }
   ],
   "source": [
    "def dispRes1(digitClass=0,nthDigit=0):\n",
    "    classificationThresh = 0.5\n",
    "    actual = digitDict[digitClass][nthDigit,:]\n",
    "    pred = ae1.predict(actual)\n",
    "    res = losses.mean_absolute_error(actual,pred)\n",
    "    res = sess.run(res)\n",
    "    \n",
    "    fig = plt.figure(figsize=(10, 10))\n",
    "    fig.suptitle(\"Mean Absolute Reconstruction Error: {0:.5}%\".format(res[0]*100), fontsize=16,y=0.73)\n",
    "    \n",
    "    ax1 = fig.add_subplot(1,2,1)\n",
    "    ax1.axis('off')\n",
    "    ax1.set_title(\"Original Image\")\n",
    "    ax1.imshow(actual.reshape(28,28),cmap=\"gray\")\n",
    "    \n",
    "    ax2 = fig.add_subplot(1,2,2)\n",
    "    ax2.axis('off')\n",
    "    ax2.set_title(\"Reconstructed Image\")\n",
    "    ax2.imshow(pred.reshape(28,28),cmap=\"gray\")\n",
    "    \n",
    "    plt.show()\n",
    "    \n",
    "    snnRes = snn.predict(res)[0][0]\n",
    "    \n",
    "    if snnRes < classificationThresh:\n",
    "        print(\"Classification 0 : [{0}]\".format( snnRes ))\n",
    "    else:\n",
    "        print(\"Classification ANOMALY : [{0}]\".format( snnRes ))\n",
    "        \n",
    "    \n",
    "    \n",
    "    \n",
    "interact(dispRes1,digitClass=(0,9),nthDigit=(0,1000))"
   ]
  }
 ],
 "metadata": {
  "kernelspec": {
   "display_name": "Python 3",
   "language": "python",
   "name": "python3"
  },
  "language_info": {
   "codemirror_mode": {
    "name": "ipython",
    "version": 3
   },
   "file_extension": ".py",
   "mimetype": "text/x-python",
   "name": "python",
   "nbconvert_exporter": "python",
   "pygments_lexer": "ipython3",
   "version": "3.6.4"
  }
 },
 "nbformat": 4,
 "nbformat_minor": 2
}
