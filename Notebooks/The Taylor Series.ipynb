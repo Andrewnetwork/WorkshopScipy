{
 "cells": [
  {
   "cell_type": "markdown",
   "metadata": {},
   "source": [
    "# The Taylor Series\n",
    "** October 2017 **\n",
    "\n",
    "** Andrew Riberio @ [AndrewRib.com](http://www.andrewrib.com) **\n",
    "\n",
    "In this notebook we will explore the taylor series using sympy. \n",
    "\n",
    "Resources:\n",
    "* https://en.wikipedia.org/wiki/Series_(mathematics)\n",
    "* https://en.wikipedia.org/wiki/Taylor_series"
   ]
  },
  {
   "cell_type": "markdown",
   "metadata": {},
   "source": [
    "## Libraries"
   ]
  },
  {
   "cell_type": "code",
   "execution_count": 1,
   "metadata": {
    "collapsed": true
   },
   "outputs": [],
   "source": [
    "import sympy as sp\n",
    "import sympy.functions.combinatorial.factorials as fact\n",
    "import matplotlib.pyplot as plt\n",
    "import numpy as np\n",
    "from IPython.display import display\n",
    "from decimal import *\n",
    "\n",
    "# Pretty Latex printing for Sympy with an argument to show the polynomials the way we write them \n",
    "# from small term to larger. May give you problems if you don't have a latex distribution. \n",
    "sp.init_printing(order='rev-lex',use_latex='mathjax')"
   ]
  },
  {
   "cell_type": "markdown",
   "metadata": {},
   "source": [
    "## Taylor Series\n",
    "The taylor series is an intriguing power series that makes use of acending derivitives to approximate a function. \n",
    "Please see the [Taylor Series](https://en.wikipedia.org/wiki/Taylor_series) wiki for a formal definition. Here we will implement the taylor series function and use it to approximate various functions. "
   ]
  },
  {
   "cell_type": "code",
   "execution_count": 2,
   "metadata": {
    "collapsed": true
   },
   "outputs": [],
   "source": [
    "def taylor(fn,depth, x=None,a = None, printSteps = True):\n",
    "    # If no x or a is provided, we will be symbolically computing the taylor series. \n",
    "    if(x == None):\n",
    "        x = sp.symbols('x')\n",
    "    if(a == None):\n",
    "        a = sp.symbols('a')\n",
    "    \n",
    "    # The start of the taylor series \n",
    "    result = fn(a)\n",
    "    \n",
    "    if depth == 0:\n",
    "        return result \n",
    "    elif depth > 0:\n",
    "        cummulativeDYDX = fn(a)\n",
    "        for i in range(depth):\n",
    "            cummulativeDYDX = sp.diff(cummulativeDYDX)\n",
    "            \n",
    "            if(printSteps):\n",
    "                print(\"Derivitive of order d^{0}y/dx^[0|: {1}\".format(i+1,cummulativeDYDX))\n",
    "                      \n",
    "            result = result + (cummulativeDYDX  / fact.factorial(i+1))*(x - a)**(i+1)\n",
    "                      \n",
    "        return result\n",
    "    else:\n",
    "        # Malformed case.\n",
    "        return 0"
   ]
  },
  {
   "cell_type": "markdown",
   "metadata": {},
   "source": [
    "Consider the beloved Euler Number:  $e^{x}$. It has a most interesting taylor series. Let's show it here expanded to 5 steps. "
   ]
  },
  {
   "cell_type": "code",
   "execution_count": 3,
   "metadata": {},
   "outputs": [
    {
     "name": "stdout",
     "output_type": "stream",
     "text": [
      "Derivitive of order d^1y/dx^[0|: exp(a)\n",
      "Derivitive of order d^2y/dx^[0|: exp(a)\n",
      "Derivitive of order d^3y/dx^[0|: exp(a)\n",
      "Derivitive of order d^4y/dx^[0|: exp(a)\n",
      "Derivitive of order d^5y/dx^[0|: exp(a)\n"
     ]
    },
    {
     "data": {
      "text/latex": [
       "$$e^{a} + \\left(x - a\\right) e^{a} + \\frac{e^{a}}{2} \\left(x - a\\right)^{2} + \\frac{e^{a}}{6} \\left(x - a\\right)^{3} + \\frac{e^{a}}{24} \\left(x - a\\right)^{4} + \\frac{e^{a}}{120} \\left(x - a\\right)^{5}$$"
      ],
      "text/plain": [
       "                         2  a          3  a          4  a          5  a\n",
       " a            a   (x - a) ⋅ℯ    (x - a) ⋅ℯ    (x - a) ⋅ℯ    (x - a) ⋅ℯ \n",
       "ℯ  + (x - a)⋅ℯ  + ─────────── + ─────────── + ─────────── + ───────────\n",
       "                       2             6             24           120    "
      ]
     },
     "execution_count": 3,
     "metadata": {},
     "output_type": "execute_result"
    }
   ],
   "source": [
    "eTaylor5 = taylor(sp.exp,5)\n",
    "eTaylor5 "
   ]
  },
  {
   "cell_type": "markdown",
   "metadata": {},
   "source": [
    "As we see, one of the nifty features of the $e^{x}$ is that it is equal to its derivative. Thus, when we chain higher order derivatives of $e^{x}$, we simply get the same thing ( as shown in the printout). This leads to the simplest type of taylor series, as the derivitive term remains constant. \n",
    "\n",
    "So what does this taylor series of $e^{x}$ look like with only 5 terms? We will make use of sympy's symbolic computation abilities to substitute in values for x and a.\n",
    "\n",
    "In the case of a = 0, we get:"
   ]
  },
  {
   "cell_type": "code",
   "execution_count": 4,
   "metadata": {},
   "outputs": [
    {
     "data": {
      "text/latex": [
       "$$1 + x + \\frac{x^{2}}{2} + \\frac{x^{3}}{6} + \\frac{x^{4}}{24} + \\frac{x^{5}}{120}$$"
      ],
      "text/plain": [
       "         2    3    4     5\n",
       "        x    x    x     x \n",
       "1 + x + ── + ── + ── + ───\n",
       "        2    6    24   120"
      ]
     },
     "execution_count": 4,
     "metadata": {},
     "output_type": "execute_result"
    }
   ],
   "source": [
    "x, a = sp.symbols('x a')\n",
    "eTaylor5_0 = eTaylor5.subs(a,0)\n",
    "eTaylor5_0 "
   ]
  },
  {
   "cell_type": "markdown",
   "metadata": {},
   "source": [
    "** Theorem **: When we let a = 0, and x = 1, the taylor series as its number of terms approaches infinity = $e$ and is [the definition of $e$](https://en.wikipedia.org/wiki/Exponential_function)."
   ]
  },
  {
   "cell_type": "code",
   "execution_count": 19,
   "metadata": {},
   "outputs": [
    {
     "data": {
      "image/png": "[encoded data removed]",
      "text/plain": [
       "<matplotlib.figure.Figure at 0x2158c951470>"
      ]
     },
     "metadata": {},
     "output_type": "display_data"
    }
   ],
   "source": [
    "xs      = np.arange(-2,4,0.1)\n",
    "ys      = np.exp(xs)\n",
    "yTaylor = []\n",
    "\n",
    "for xi in xs:\n",
    "    yTaylor.append( eTaylor5_0.subs(x,xi) )\n",
    "    \n",
    "plt.figure(figsize=(15,15))\n",
    "plt.plot(xs,ys,color = \"blue\")\n",
    "plt.plot(xs,yTaylor,color=\"red\")\n",
    "\n",
    "plt.title(\"Value of $e$ and Taylor Series Approximation\",fontsize=20)\n",
    "plt.ylabel(\"Y\",fontsize=20)\n",
    "plt.xlabel(\"X\",fontsize=20)\n",
    "\n",
    "plt.show()"
   ]
  },
  {
   "cell_type": "markdown",
   "metadata": {},
   "source": [
    "As we see here, due to only having 5 terms in our taylor series, we get an approximation of $e^x$ with some error. As we increase our number of terms in our taylor series, we increase the approximation precision. \n",
    "\n",
    "Let's see what the value of $e$ is in our taylor series and compare that to what numpy defines $e$ as:"
   ]
  },
  {
   "cell_type": "code",
   "execution_count": 6,
   "metadata": {},
   "outputs": [
    {
     "name": "stdout",
     "output_type": "stream",
     "text": [
      "Our approximated e value: 2.716666666666667\n",
      "Numpy's approximated e value: 2.718281828459045\n",
      "Error: 0.0016151617923783057\n"
     ]
    }
   ],
   "source": [
    "res        = eTaylor5_0.subs(x,1)\n",
    "decimalVal = res.p/res.q\n",
    "npE        = np.exp(1)\n",
    "\n",
    "print(\"Our approximated e value: {0}\".format(res.p/res.q) )\n",
    "print(\"Numpy's approximated e value: {0}\".format(npE))\n",
    "print(\"Error: {0}\".format(npE - decimalVal))"
   ]
  },
  {
   "cell_type": "markdown",
   "metadata": {},
   "source": [
    "Let's beef up our taylor series to include more terms instead of the measly five we've been dealing with. We will produce 100 taylor series with a = 0, starting with a one termed taylor series to a 100 termed one. "
   ]
  },
  {
   "cell_type": "code",
   "execution_count": 7,
   "metadata": {
    "collapsed": true
   },
   "outputs": [],
   "source": [
    "taylors = []\n",
    "for i in range(1,101):\n",
    "    taylors.append(taylor(sp.exp,i,printSteps=False))\n",
    "    taylors[i-1] = taylors[i-1].subs(a,0)"
   ]
  },
  {
   "cell_type": "markdown",
   "metadata": {},
   "source": [
    "We can pretty print one of the taylor series in the list by:"
   ]
  },
  {
   "cell_type": "code",
   "execution_count": 8,
   "metadata": {},
   "outputs": [
    {
     "data": {
      "text/latex": [
       "$$1 + x + \\frac{x^{2}}{2} + \\frac{x^{3}}{6} + \\frac{x^{4}}{24} + \\frac{x^{5}}{120}$$"
      ],
      "text/plain": [
       "         2    3    4     5\n",
       "        x    x    x     x \n",
       "1 + x + ── + ── + ── + ───\n",
       "        2    6    24   120"
      ]
     },
     "execution_count": 8,
     "metadata": {},
     "output_type": "execute_result"
    }
   ],
   "source": [
    "taylors[4]"
   ]
  },
  {
   "cell_type": "code",
   "execution_count": 9,
   "metadata": {},
   "outputs": [
    {
     "data": {
      "text/latex": [
       "$$1 + x$$"
      ],
      "text/plain": [
       "1 + x"
      ]
     },
     "metadata": {},
     "output_type": "display_data"
    },
    {
     "data": {
      "text/latex": [
       "$$1 + x + \\frac{x^{2}}{2}$$"
      ],
      "text/plain": [
       "         2\n",
       "        x \n",
       "1 + x + ──\n",
       "        2 "
      ]
     },
     "metadata": {},
     "output_type": "display_data"
    },
    {
     "data": {
      "text/latex": [
       "$$1 + x + \\frac{x^{2}}{2} + \\frac{x^{3}}{6}$$"
      ],
      "text/plain": [
       "         2    3\n",
       "        x    x \n",
       "1 + x + ── + ──\n",
       "        2    6 "
      ]
     },
     "metadata": {},
     "output_type": "display_data"
    },
    {
     "data": {
      "text/latex": [
       "$$1 + x + \\frac{x^{2}}{2} + \\frac{x^{3}}{6} + \\frac{x^{4}}{24}$$"
      ],
      "text/plain": [
       "         2    3    4\n",
       "        x    x    x \n",
       "1 + x + ── + ── + ──\n",
       "        2    6    24"
      ]
     },
     "metadata": {},
     "output_type": "display_data"
    },
    {
     "data": {
      "text/latex": [
       "$$1 + x + \\frac{x^{2}}{2} + \\frac{x^{3}}{6} + \\frac{x^{4}}{24} + \\frac{x^{5}}{120}$$"
      ],
      "text/plain": [
       "         2    3    4     5\n",
       "        x    x    x     x \n",
       "1 + x + ── + ── + ── + ───\n",
       "        2    6    24   120"
      ]
     },
     "metadata": {},
     "output_type": "display_data"
    },
    {
     "data": {
      "text/latex": [
       "$$1 + x + \\frac{x^{2}}{2} + \\frac{x^{3}}{6} + \\frac{x^{4}}{24} + \\frac{x^{5}}{120} + \\frac{x^{6}}{720}$$"
      ],
      "text/plain": [
       "         2    3    4     5     6\n",
       "        x    x    x     x     x \n",
       "1 + x + ── + ── + ── + ─── + ───\n",
       "        2    6    24   120   720"
      ]
     },
     "metadata": {},
     "output_type": "display_data"
    },
    {
     "data": {
      "text/latex": [
       "$$1 + x + \\frac{x^{2}}{2} + \\frac{x^{3}}{6} + \\frac{x^{4}}{24} + \\frac{x^{5}}{120} + \\frac{x^{6}}{720} + \\frac{x^{7}}{5040}$$"
      ],
      "text/plain": [
       "         2    3    4     5     6     7 \n",
       "        x    x    x     x     x     x  \n",
       "1 + x + ── + ── + ── + ─── + ─── + ────\n",
       "        2    6    24   120   720   5040"
      ]
     },
     "metadata": {},
     "output_type": "display_data"
    },
    {
     "data": {
      "text/latex": [
       "$$1 + x + \\frac{x^{2}}{2} + \\frac{x^{3}}{6} + \\frac{x^{4}}{24} + \\frac{x^{5}}{120} + \\frac{x^{6}}{720} + \\frac{x^{7}}{5040} + \\frac{x^{8}}{40320}$$"
      ],
      "text/plain": [
       "         2    3    4     5     6     7       8 \n",
       "        x    x    x     x     x     x       x  \n",
       "1 + x + ── + ── + ── + ─── + ─── + ──── + ─────\n",
       "        2    6    24   120   720   5040   40320"
      ]
     },
     "metadata": {},
     "output_type": "display_data"
    },
    {
     "data": {
      "text/latex": [
       "$$1 + x + \\frac{x^{2}}{2} + \\frac{x^{3}}{6} + \\frac{x^{4}}{24} + \\frac{x^{5}}{120} + \\frac{x^{6}}{720} + \\frac{x^{7}}{5040} + \\frac{x^{8}}{40320} + \\frac{x^{9}}{362880}$$"
      ],
      "text/plain": [
       "         2    3    4     5     6     7       8       9  \n",
       "        x    x    x     x     x     x       x       x   \n",
       "1 + x + ── + ── + ── + ─── + ─── + ──── + ───── + ──────\n",
       "        2    6    24   120   720   5040   40320   362880"
      ]
     },
     "metadata": {},
     "output_type": "display_data"
    },
    {
     "data": {
      "text/latex": [
       "$$1 + x + \\frac{x^{2}}{2} + \\frac{x^{3}}{6} + \\frac{x^{4}}{24} + \\frac{x^{5}}{120} + \\frac{x^{6}}{720} + \\frac{x^{7}}{5040} + \\frac{x^{8}}{40320} + \\frac{x^{9}}{362880} + \\frac{x^{10}}{3628800}$$"
      ],
      "text/plain": [
       "         2    3    4     5     6     7       8       9        10  \n",
       "        x    x    x     x     x     x       x       x        x    \n",
       "1 + x + ── + ── + ── + ─── + ─── + ──── + ───── + ────── + ───────\n",
       "        2    6    24   120   720   5040   40320   362880   3628800"
      ]
     },
     "metadata": {},
     "output_type": "display_data"
    }
   ],
   "source": [
    "# Showing the first ten taylors. There must be a better way to pretty print this. \n",
    "for i in range(0,10):\n",
    "    display(taylors[i])"
   ]
  },
  {
   "cell_type": "code",
   "execution_count": 10,
   "metadata": {},
   "outputs": [
    {
     "name": "stdout",
     "output_type": "stream",
     "text": [
      "Series with 0 terms: 2 = 2.0\n",
      "Series with 1 terms: 5/2 = 2.5\n",
      "Series with 2 terms: 8/3 = 2.6666666666666665\n",
      "Series with 3 terms: 65/24 = 2.7083333333333335\n",
      "Series with 4 terms: 163/60 = 2.716666666666667\n",
      "Series with 5 terms: 1957/720 = 2.7180555555555554\n",
      "Series with 6 terms: 685/252 = 2.7182539682539684\n",
      "Series with 7 terms: 109601/40320 = 2.71827876984127\n",
      "Series with 8 terms: 98641/36288 = 2.7182815255731922\n",
      "Series with 9 terms: 9864101/3628800 = 2.7182818011463845\n"
     ]
    }
   ],
   "source": [
    "# Showing the first ten computed rationals given x = 1\n",
    "for i in range(0,10):\n",
    "    res = taylors[i].subs(x,1)\n",
    "    print(\"Series with {0} terms: {1} = {2}\".format(i,res,res.p/res.q))"
   ]
  },
  {
   "cell_type": "markdown",
   "metadata": {},
   "source": [
    "If we proceed in this fashion, by showing the value of the taylor series rational by calling res.p/res.q, we will run up against pythons default precision for floating point numbers, and it will seem like we reach a point where adding another term to the taylor series adds no further precision. Let's show this by showing the result of the taylor series with 99 vs 98 terms:"
   ]
  },
  {
   "cell_type": "code",
   "execution_count": 11,
   "metadata": {},
   "outputs": [
    {
     "name": "stdout",
     "output_type": "stream",
     "text": [
      "Result 1:  2.718281828459045\n",
      "Result 2:  2.718281828459045\n",
      "Numpy exp: 2.718281828459045\n"
     ]
    }
   ],
   "source": [
    "r1 = taylors[99].subs(x,1)\n",
    "r2 = taylors[98].subs(x,1)\n",
    "\n",
    "print(\"Result 1:  {0}\".format(r1.p/r1.q))\n",
    "print(\"Result 2:  {0}\".format(r2.p/r2.q) )\n",
    "print(\"Numpy exp: {0}\".format(np.exp(1)))"
   ]
  },
  {
   "cell_type": "markdown",
   "metadata": {},
   "source": [
    "As we see, it shows the same value for all results. This is a result of truncation. We can use a higher precision floating point object by using the Decimal class. Let's do the same thing, but use that class. "
   ]
  },
  {
   "cell_type": "code",
   "execution_count": 12,
   "metadata": {},
   "outputs": [
    {
     "name": "stdout",
     "output_type": "stream",
     "text": [
      "Result 1:  2.718281828459045235360287471\n",
      "Result 2:  2.718281828459045235360287471\n",
      "Numpy exp: 2.718281828459045090795598298427648842334747314453125\n"
     ]
    }
   ],
   "source": [
    "r1Dec = Decimal(r1.p)/Decimal(r1.q)\n",
    "r2Dec = Decimal(r1.p)/Decimal(r1.q)\n",
    "npE   = Decimal(np.exp(1))\n",
    "\n",
    "print(\"Result 1:  {0}\".format(r1Dec))\n",
    "print(\"Result 2:  {0}\".format(r2Dec))\n",
    "print(\"Numpy exp: {0}\".format(npE))"
   ]
  },
  {
   "cell_type": "markdown",
   "metadata": {},
   "source": [
    "At this point, we still don't enough precision to show the difference between the last two taylor series in our list which have 98 and 99 terms, nor can we match numpy's precision. Let's go a little deeper here. We can do arithmetic up to any precision we'd like. This is called arbitrary precision. Sympy uses a library called [mpmath](http://mpmath.org/) behind the scenes to accomplish this. \n",
    "\n",
    "See: http://docs.sympy.org/latest/modules/evalf.html"
   ]
  },
  {
   "cell_type": "code",
   "execution_count": 13,
   "metadata": {},
   "outputs": [
    {
     "name": "stdout",
     "output_type": "stream",
     "text": [
      "No sub:    2.718281828459045090795598298427648842334747314453125\n",
      "Numpy exp: 2.718281828459045090795598298427648842334747314453125\n",
      "Sub        2.718281828459045235360287471352662497757247093699960\n"
     ]
    }
   ],
   "source": [
    "higherPrecision = sp.N(r1.p/r1.q,52)\n",
    "print(\"No sub:    {0}\".format(higherPrecision))\n",
    "print(\"Numpy exp: {0}\".format(Decimal(np.exp(1))))\n",
    "print(\"Sub        {0}\".format(sp.N(taylors[99].subs(x,1),52)))"
   ]
  },
  {
   "cell_type": "markdown",
   "metadata": {},
   "source": [
    "So this result is a bit tricky. Somewhere in our computation we are truncating results when we computer higherPrecision. It turns out, we must call the Numeric evaluation function sp.N when performing our x substitution, so that we do not truncate results when dividing during the substitution; however, if we symbolically compute the substitution of x, we get a rational approximation that is more in line with standard results ( like arriving at numpy's $e$). Sympy uses different libraries for performing different things. Namely, the numeric evaluation module sp.N uses mpmath to do arbitrary precision arithmetic, and the symbolic computation uses another module. This explains the difference in values, but since much is hidden in the nuts and bolts of the package, I cannot provide a satisfactory answer why at this time. \n",
    "\n",
    "As observed above, in the special case of a = 0, it transforms the series into the definition of $e$. No division or truncation happens during this substitution, so the symbolic solution should equal the numeric one. \n",
    "\n",
    "Here we will print the results of our taylor series' with differing precision to show how it changes the values. "
   ]
  },
  {
   "cell_type": "code",
   "execution_count": 14,
   "metadata": {},
   "outputs": [
    {
     "name": "stdout",
     "output_type": "stream",
     "text": [
      "Precision = 50\n",
      "taylors[0]   = 2.0000000000000000000000000000000000000000000000000\n",
      "taylors[1]   = 2.5000000000000000000000000000000000000000000000000\n",
      "taylors[2]   = 2.6666666666666666666666666666666666666666666666667\n",
      "taylors[3]   = 2.7083333333333333333333333333333333333333333333333\n",
      "taylors[4]   = 2.7166666666666666666666666666666666666666666666667\n",
      "taylors[5]   = 2.7180555555555555555555555555555555555555555555556\n",
      "taylors[6]   = 2.7182539682539682539682539682539682539682539682540\n",
      "taylors[7]   = 2.7182787698412698412698412698412698412698412698413\n",
      "taylors[8]   = 2.7182815255731922398589065255731922398589065255732\n",
      "taylors[9]   = 2.7182818011463844797178130511463844797178130511464\n",
      "taylors[10]   = 2.7182818261984928651595318261984928651595318261985\n",
      "taylors[11]   = 2.7182818282861685639463417241195018972796750574528\n",
      "taylors[12]   = 2.7182818284467590023145578701134256689812245367801\n",
      "taylors[13]   = 2.7182818284582297479122875948272773669599066424463\n",
      "taylors[14]   = 2.7182818284589944642854695764748674801584854494907\n",
      "taylors[15]   = 2.7182818284590422590587934503278418622333966249310\n",
      "taylors[16]   = 2.7182818284590450705160477958486050611789796352510\n",
      "taylors[17]   = 2.7182818284590452267081174817108696833426231358244\n",
      "taylors[18]   = 2.7182818284590452349287527283351994002986043726966\n",
      "taylors[19]   = 2.7182818284590452353397844906664158861464034345403\n",
      "taylors[20]   = 2.7182818284590452353593574317298071473772510089138\n",
      "taylors[21]   = 2.7182818284590452353602471108690522047059258986580\n",
      "taylors[22]   = 2.7182818284590452353602857925707585115463030677773\n",
      "taylors[23]   = 2.7182818284590452353602874043083296076646521164906\n",
      "taylors[24]   = 2.7182818284590452353602874687778324515093860784392\n",
      "taylors[25]   = 2.7182818284590452353602874712574287147341835385141\n",
      "taylors[26]   = 2.7182818284590452353602874713492656133721389999984\n",
      "taylors[27]   = 2.7182818284590452353602874713525455026092088379085\n",
      "taylors[28]   = 2.7182818284590452353602874713526586022380733150778\n",
      "taylors[29]   = 2.7182818284590452353602874713526623722257021309835\n",
      "taylors[30]   = 2.7182818284590452353602874713526624938382062863353\n",
      "taylors[31]   = 2.7182818284590452353602874713526624976385970411900\n",
      "taylors[32]   = 2.7182818284590452353602874713526624977537603973977\n",
      "taylors[33]   = 2.7182818284590452353602874713526624977571475549333\n",
      "taylors[34]   = 2.7182818284590452353602874713526624977572443308628\n",
      "taylors[35]   = 2.7182818284590452353602874713526624977572470190831\n",
      "taylors[36]   = 2.7182818284590452353602874713526624977572470917377\n",
      "taylors[37]   = 2.7182818284590452353602874713526624977572470936497\n",
      "taylors[38]   = 2.7182818284590452353602874713526624977572470936987\n",
      "taylors[39]   = 2.7182818284590452353602874713526624977572470936999\n",
      "taylors[40]   = 2.7182818284590452353602874713526624977572470937000\n",
      "taylors[41]   = 2.7182818284590452353602874713526624977572470937000\n",
      "taylors[42]   = 2.7182818284590452353602874713526624977572470937000\n",
      "taylors[43]   = 2.7182818284590452353602874713526624977572470937000\n",
      "taylors[44]   = 2.7182818284590452353602874713526624977572470937000\n",
      "taylors[45]   = 2.7182818284590452353602874713526624977572470937000\n",
      "taylors[46]   = 2.7182818284590452353602874713526624977572470937000\n",
      "taylors[47]   = 2.7182818284590452353602874713526624977572470937000\n",
      "taylors[48]   = 2.7182818284590452353602874713526624977572470937000\n",
      "taylors[49]   = 2.7182818284590452353602874713526624977572470937000\n",
      "taylors[50]   = 2.7182818284590452353602874713526624977572470937000\n",
      "taylors[51]   = 2.7182818284590452353602874713526624977572470937000\n",
      "taylors[52]   = 2.7182818284590452353602874713526624977572470937000\n",
      "taylors[53]   = 2.7182818284590452353602874713526624977572470937000\n",
      "taylors[54]   = 2.7182818284590452353602874713526624977572470937000\n",
      "taylors[55]   = 2.7182818284590452353602874713526624977572470937000\n",
      "taylors[56]   = 2.7182818284590452353602874713526624977572470937000\n",
      "taylors[57]   = 2.7182818284590452353602874713526624977572470937000\n",
      "taylors[58]   = 2.7182818284590452353602874713526624977572470937000\n",
      "taylors[59]   = 2.7182818284590452353602874713526624977572470937000\n",
      "taylors[60]   = 2.7182818284590452353602874713526624977572470937000\n",
      "taylors[61]   = 2.7182818284590452353602874713526624977572470937000\n",
      "taylors[62]   = 2.7182818284590452353602874713526624977572470937000\n",
      "taylors[63]   = 2.7182818284590452353602874713526624977572470937000\n",
      "taylors[64]   = 2.7182818284590452353602874713526624977572470937000\n",
      "taylors[65]   = 2.7182818284590452353602874713526624977572470937000\n",
      "taylors[66]   = 2.7182818284590452353602874713526624977572470937000\n",
      "taylors[67]   = 2.7182818284590452353602874713526624977572470937000\n",
      "taylors[68]   = 2.7182818284590452353602874713526624977572470937000\n",
      "taylors[69]   = 2.7182818284590452353602874713526624977572470937000\n",
      "taylors[70]   = 2.7182818284590452353602874713526624977572470937000\n",
      "taylors[71]   = 2.7182818284590452353602874713526624977572470937000\n",
      "taylors[72]   = 2.7182818284590452353602874713526624977572470937000\n",
      "taylors[73]   = 2.7182818284590452353602874713526624977572470937000\n",
      "taylors[74]   = 2.7182818284590452353602874713526624977572470937000\n",
      "taylors[75]   = 2.7182818284590452353602874713526624977572470937000\n",
      "taylors[76]   = 2.7182818284590452353602874713526624977572470937000\n",
      "taylors[77]   = 2.7182818284590452353602874713526624977572470937000\n",
      "taylors[78]   = 2.7182818284590452353602874713526624977572470937000\n",
      "taylors[79]   = 2.7182818284590452353602874713526624977572470937000\n",
      "taylors[80]   = 2.7182818284590452353602874713526624977572470937000\n",
      "taylors[81]   = 2.7182818284590452353602874713526624977572470937000\n",
      "taylors[82]   = 2.7182818284590452353602874713526624977572470937000\n",
      "taylors[83]   = 2.7182818284590452353602874713526624977572470937000\n",
      "taylors[84]   = 2.7182818284590452353602874713526624977572470937000\n",
      "taylors[85]   = 2.7182818284590452353602874713526624977572470937000\n",
      "taylors[86]   = 2.7182818284590452353602874713526624977572470937000\n",
      "taylors[87]   = 2.7182818284590452353602874713526624977572470937000\n",
      "taylors[88]   = 2.7182818284590452353602874713526624977572470937000\n",
      "taylors[89]   = 2.7182818284590452353602874713526624977572470937000\n",
      "taylors[90]   = 2.7182818284590452353602874713526624977572470937000\n",
      "taylors[91]   = 2.7182818284590452353602874713526624977572470937000\n",
      "taylors[92]   = 2.7182818284590452353602874713526624977572470937000\n",
      "taylors[93]   = 2.7182818284590452353602874713526624977572470937000\n",
      "taylors[94]   = 2.7182818284590452353602874713526624977572470937000\n",
      "taylors[95]   = 2.7182818284590452353602874713526624977572470937000\n",
      "taylors[96]   = 2.7182818284590452353602874713526624977572470937000\n",
      "taylors[97]   = 2.7182818284590452353602874713526624977572470937000\n",
      "taylors[98]   = 2.7182818284590452353602874713526624977572470937000\n",
      "taylors[99]   = 2.7182818284590452353602874713526624977572470937000\n"
     ]
    }
   ],
   "source": [
    "p = 50\n",
    "print(\"Precision = {0}\".format(p))\n",
    "\n",
    "cntr = 0\n",
    "for taylor_i in taylors:\n",
    "    res = sp.N(taylor_i.subs(x,1),p)\n",
    "    print(\"taylors[{0}]   = {1}\".format(cntr,res))\n",
    "    cntr+=1"
   ]
  },
  {
   "cell_type": "markdown",
   "metadata": {},
   "source": [
    "As we see, at expansion 40 we arrive at the closest value given this precision. After 40 we see that the differences are chopped off. Let's start at expansion 40 with a higher precision.  "
   ]
  },
  {
   "cell_type": "code",
   "execution_count": 15,
   "metadata": {},
   "outputs": [
    {
     "name": "stdout",
     "output_type": "stream",
     "text": [
      "Precision = 100\n",
      "taylors[38]   = 2.718281828459045235360287471352662497757247093698703335742056391892310837864596648186030883920472746\n",
      "taylors[39]   = 2.718281828459045235360287471352662497757247093699928953181184777741734377849536405109756445884951071\n",
      "taylors[40]   = 2.718281828459045235360287471352662497757247093699958846289456201786842269068681277229847313249938347\n",
      "taylors[41]   = 2.718281828459045235360287471352662497757247093699959558030129330930773409335803774185087571996723758\n",
      "taylors[42]   = 2.718281828459045235360287471352662497757247093699959574582238008352725296318760111323581531502462954\n",
      "taylors[43]   = 2.718281828459045235360287471352662497757247093699959574958422296475951475568372755349456394218502481\n",
      "taylors[44]   = 2.718281828459045235360287471352662497757247093699959574966781947323134279551697480772253613389970026\n",
      "taylors[45]   = 2.718281828459045235360287471352662497757247093699959574966963678863290427464378453064053552937175842\n",
      "taylors[46]   = 2.718281828459045235360287471352662497757247093699959574966967545491804388058265282261751423991371711\n",
      "taylors[47]   = 2.718281828459045235360287471352662497757247093699959574966967626046565095570637924536703462971667458\n",
      "taylors[48]   = 2.718281828459045235360287471352662497757247093699959574966967627690539803887216958052518810705959208\n",
      "taylors[49]   = 2.718281828459045235360287471352662497757247093699959574966967627723419298053548538722835117660645043\n",
      "taylors[50]   = 2.718281828459045235360287471352662497757247093699959574966967627724063994017594255990880535444070256\n",
      "taylors[51]   = 2.718281828459045235360287471352662497757247093699959574966967627724076392016902827476804485786059202\n",
      "taylors[52]   = 2.718281828459045235360287471352662497757247093699959574966967627724076625941418083542576635792511824\n",
      "taylors[53]   = 2.718281828459045235360287471352662497757247093699959574966967627724076630273353551247498342274112798\n",
      "taylors[54]   = 2.718281828459045235360287471352662497757247093699959574966967627724076630352116014296678736937414634\n",
      "taylors[55]   = 2.718281828459045235360287471352662497757247093699959574966967627724076630353522486851128386842116452\n",
      "taylors[56]   = 2.718281828459045235360287471352662497757247093699959574966967627724076630353547161808223994735181397\n",
      "taylors[57]   = 2.718281828459045235360287471352662497757247093699959574966967627724076630353547587238518746595406654\n",
      "taylors[58]   = 2.718281828459045235360287471352662497757247093699959574966967627724076630353547594449201708491342676\n",
      "taylors[59]   = 2.718281828459045235360287471352662497757247093699959574966967627724076630353547594569379757856274943\n",
      "taylors[60]   = 2.718281828459045235360287471352662497757247093699959574966967627724076630353547594571349889813077111\n",
      "taylors[61]   = 2.718281828459045235360287471352662497757247093699959574966967627724076630353547594571381666134961017\n",
      "taylors[62]   = 2.718281828459045235360287471352662497757247093699959574966967627724076630353547594571382170521022666\n",
      "taylors[63]   = 2.718281828459045235360287471352662497757247093699959574966967627724076630353547594571382178402054879\n",
      "taylors[64]   = 2.718281828459045235360287471352662497757247093699959574966967627724076630353547594571382178523301529\n",
      "taylors[65]   = 2.718281828459045235360287471352662497757247093699959574966967627724076630353547594571382178525138599\n",
      "taylors[66]   = 2.718281828459045235360287471352662497757247093699959574966967627724076630353547594571382178525166018\n",
      "taylors[67]   = 2.718281828459045235360287471352662497757247093699959574966967627724076630353547594571382178525166421\n",
      "taylors[68]   = 2.718281828459045235360287471352662497757247093699959574966967627724076630353547594571382178525166427\n",
      "taylors[69]   = 2.718281828459045235360287471352662497757247093699959574966967627724076630353547594571382178525166427\n",
      "taylors[70]   = 2.718281828459045235360287471352662497757247093699959574966967627724076630353547594571382178525166427\n",
      "taylors[71]   = 2.718281828459045235360287471352662497757247093699959574966967627724076630353547594571382178525166427\n",
      "taylors[72]   = 2.718281828459045235360287471352662497757247093699959574966967627724076630353547594571382178525166427\n",
      "taylors[73]   = 2.718281828459045235360287471352662497757247093699959574966967627724076630353547594571382178525166427\n",
      "taylors[74]   = 2.718281828459045235360287471352662497757247093699959574966967627724076630353547594571382178525166427\n",
      "taylors[75]   = 2.718281828459045235360287471352662497757247093699959574966967627724076630353547594571382178525166427\n",
      "taylors[76]   = 2.718281828459045235360287471352662497757247093699959574966967627724076630353547594571382178525166427\n",
      "taylors[77]   = 2.718281828459045235360287471352662497757247093699959574966967627724076630353547594571382178525166427\n",
      "taylors[78]   = 2.718281828459045235360287471352662497757247093699959574966967627724076630353547594571382178525166427\n",
      "taylors[79]   = 2.718281828459045235360287471352662497757247093699959574966967627724076630353547594571382178525166427\n",
      "taylors[80]   = 2.718281828459045235360287471352662497757247093699959574966967627724076630353547594571382178525166427\n",
      "taylors[81]   = 2.718281828459045235360287471352662497757247093699959574966967627724076630353547594571382178525166427\n",
      "taylors[82]   = 2.718281828459045235360287471352662497757247093699959574966967627724076630353547594571382178525166427\n",
      "taylors[83]   = 2.718281828459045235360287471352662497757247093699959574966967627724076630353547594571382178525166427\n",
      "taylors[84]   = 2.718281828459045235360287471352662497757247093699959574966967627724076630353547594571382178525166427\n",
      "taylors[85]   = 2.718281828459045235360287471352662497757247093699959574966967627724076630353547594571382178525166427\n",
      "taylors[86]   = 2.718281828459045235360287471352662497757247093699959574966967627724076630353547594571382178525166427\n",
      "taylors[87]   = 2.718281828459045235360287471352662497757247093699959574966967627724076630353547594571382178525166427\n",
      "taylors[88]   = 2.718281828459045235360287471352662497757247093699959574966967627724076630353547594571382178525166427\n",
      "taylors[89]   = 2.718281828459045235360287471352662497757247093699959574966967627724076630353547594571382178525166427\n",
      "taylors[90]   = 2.718281828459045235360287471352662497757247093699959574966967627724076630353547594571382178525166427\n",
      "taylors[91]   = 2.718281828459045235360287471352662497757247093699959574966967627724076630353547594571382178525166427\n",
      "taylors[92]   = 2.718281828459045235360287471352662497757247093699959574966967627724076630353547594571382178525166427\n",
      "taylors[93]   = 2.718281828459045235360287471352662497757247093699959574966967627724076630353547594571382178525166427\n",
      "taylors[94]   = 2.718281828459045235360287471352662497757247093699959574966967627724076630353547594571382178525166427\n",
      "taylors[95]   = 2.718281828459045235360287471352662497757247093699959574966967627724076630353547594571382178525166427\n",
      "taylors[96]   = 2.718281828459045235360287471352662497757247093699959574966967627724076630353547594571382178525166427\n",
      "taylors[97]   = 2.718281828459045235360287471352662497757247093699959574966967627724076630353547594571382178525166427\n",
      "taylors[98]   = 2.718281828459045235360287471352662497757247093699959574966967627724076630353547594571382178525166427\n",
      "taylors[99]   = 2.718281828459045235360287471352662497757247093699959574966967627724076630353547594571382178525166427\n"
     ]
    }
   ],
   "source": [
    "p = 100\n",
    "print(\"Precision = {0}\".format(p))\n",
    "\n",
    "cntr = 38\n",
    "for taylor_i in taylors[38:100]:\n",
    "    res = sp.N(taylor_i.subs(x,1),p)\n",
    "    print(\"taylors[{0}]   = {1}\".format(cntr,res))\n",
    "    cntr+=1"
   ]
  },
  {
   "cell_type": "markdown",
   "metadata": {},
   "source": [
    "The trend: the higher the precision, the more we can approximate without truncation, but the precision changes the overall value of the computation."
   ]
  },
  {
   "cell_type": "markdown",
   "metadata": {},
   "source": [
    "Feel free to use this section to experiment with values"
   ]
  },
  {
   "cell_type": "code",
   "execution_count": 16,
   "metadata": {
    "collapsed": true
   },
   "outputs": [],
   "source": [
    "# Define the taylor series with depth = your value. \n",
    "depth = 18\n",
    "t = taylor(sp.exp,depth,printSteps = False)\n",
    "t2 = t.subs(a,0)"
   ]
  },
  {
   "cell_type": "code",
   "execution_count": 17,
   "metadata": {},
   "outputs": [
    {
     "name": "stdout",
     "output_type": "stream",
     "text": [
      "Result:    2.7182818284590452267081174817108696833426231358244\n",
      "Numpy exp: 2.718281828459045090795598298427648842334747314453125\n"
     ]
    }
   ],
   "source": [
    "# Perform the symbolic substitution with precision = p. \n",
    "p = 50\n",
    "r = sp.N(t2.subs(x,1),p)\n",
    "\n",
    "npE = Decimal(np.exp(1))\n",
    "print(\"Result:    {0}\".format(r))\n",
    "print(\"Numpy exp: {0}\".format(npE))"
   ]
  },
  {
   "cell_type": "code",
   "execution_count": 18,
   "metadata": {},
   "outputs": [
    {
     "name": "stdout",
     "output_type": "stream",
     "text": [
      "Plotting: \n"
     ]
    },
    {
     "data": {
      "text/latex": [
       "$$1 + x$$"
      ],
      "text/plain": [
       "1 + x"
      ]
     },
     "metadata": {},
     "output_type": "display_data"
    },
    {
     "name": "stdout",
     "output_type": "stream",
     "text": [
      "Plotting: \n"
     ]
    },
    {
     "data": {
      "text/latex": [
       "$$1 + x + \\frac{x^{2}}{2}$$"
      ],
      "text/plain": [
       "         2\n",
       "        x \n",
       "1 + x + ──\n",
       "        2 "
      ]
     },
     "metadata": {},
     "output_type": "display_data"
    },
    {
     "name": "stdout",
     "output_type": "stream",
     "text": [
      "Plotting: \n"
     ]
    },
    {
     "data": {
      "text/latex": [
       "$$1 + x + \\frac{x^{2}}{2} + \\frac{x^{3}}{6}$$"
      ],
      "text/plain": [
       "         2    3\n",
       "        x    x \n",
       "1 + x + ── + ──\n",
       "        2    6 "
      ]
     },
     "metadata": {},
     "output_type": "display_data"
    },
    {
     "name": "stdout",
     "output_type": "stream",
     "text": [
      "Plotting: \n"
     ]
    },
    {
     "data": {
      "text/latex": [
       "$$1 + x + \\frac{x^{2}}{2} + \\frac{x^{3}}{6} + \\frac{x^{4}}{24}$$"
      ],
      "text/plain": [
       "         2    3    4\n",
       "        x    x    x \n",
       "1 + x + ── + ── + ──\n",
       "        2    6    24"
      ]
     },
     "metadata": {},
     "output_type": "display_data"
    },
    {
     "name": "stdout",
     "output_type": "stream",
     "text": [
      "Plotting: \n"
     ]
    },
    {
     "data": {
      "text/latex": [
       "$$1 + x + \\frac{x^{2}}{2} + \\frac{x^{3}}{6} + \\frac{x^{4}}{24} + \\frac{x^{5}}{120}$$"
      ],
      "text/plain": [
       "         2    3    4     5\n",
       "        x    x    x     x \n",
       "1 + x + ── + ── + ── + ───\n",
       "        2    6    24   120"
      ]
     },
     "metadata": {},
     "output_type": "display_data"
    },
    {
     "name": "stdout",
     "output_type": "stream",
     "text": [
      "Plotting: \n"
     ]
    },
    {
     "data": {
      "text/latex": [
       "$$1 + x + \\frac{x^{2}}{2} + \\frac{x^{3}}{6} + \\frac{x^{4}}{24} + \\frac{x^{5}}{120} + \\frac{x^{6}}{720}$$"
      ],
      "text/plain": [
       "         2    3    4     5     6\n",
       "        x    x    x     x     x \n",
       "1 + x + ── + ── + ── + ─── + ───\n",
       "        2    6    24   120   720"
      ]
     },
     "metadata": {},
     "output_type": "display_data"
    },
    {
     "name": "stdout",
     "output_type": "stream",
     "text": [
      "Plotting: \n"
     ]
    },
    {
     "data": {
      "text/latex": [
       "$$1 + x + \\frac{x^{2}}{2} + \\frac{x^{3}}{6} + \\frac{x^{4}}{24} + \\frac{x^{5}}{120} + \\frac{x^{6}}{720} + \\frac{x^{7}}{5040}$$"
      ],
      "text/plain": [
       "         2    3    4     5     6     7 \n",
       "        x    x    x     x     x     x  \n",
       "1 + x + ── + ── + ── + ─── + ─── + ────\n",
       "        2    6    24   120   720   5040"
      ]
     },
     "metadata": {},
     "output_type": "display_data"
    },
    {
     "name": "stdout",
     "output_type": "stream",
     "text": [
      "Plotting: \n"
     ]
    },
    {
     "data": {
      "text/latex": [
       "$$1 + x + \\frac{x^{2}}{2} + \\frac{x^{3}}{6} + \\frac{x^{4}}{24} + \\frac{x^{5}}{120} + \\frac{x^{6}}{720} + \\frac{x^{7}}{5040} + \\frac{x^{8}}{40320}$$"
      ],
      "text/plain": [
       "         2    3    4     5     6     7       8 \n",
       "        x    x    x     x     x     x       x  \n",
       "1 + x + ── + ── + ── + ─── + ─── + ──── + ─────\n",
       "        2    6    24   120   720   5040   40320"
      ]
     },
     "metadata": {},
     "output_type": "display_data"
    },
    {
     "name": "stdout",
     "output_type": "stream",
     "text": [
      "Plotting: \n"
     ]
    },
    {
     "data": {
      "text/latex": [
       "$$1 + x + \\frac{x^{2}}{2} + \\frac{x^{3}}{6} + \\frac{x^{4}}{24} + \\frac{x^{5}}{120} + \\frac{x^{6}}{720} + \\frac{x^{7}}{5040} + \\frac{x^{8}}{40320} + \\frac{x^{9}}{362880}$$"
      ],
      "text/plain": [
       "         2    3    4     5     6     7       8       9  \n",
       "        x    x    x     x     x     x       x       x   \n",
       "1 + x + ── + ── + ── + ─── + ─── + ──── + ───── + ──────\n",
       "        2    6    24   120   720   5040   40320   362880"
      ]
     },
     "metadata": {},
     "output_type": "display_data"
    },
    {
     "name": "stdout",
     "output_type": "stream",
     "text": [
      "Plotting: \n"
     ]
    },
    {
     "data": {
      "text/latex": [
       "$$1 + x + \\frac{x^{2}}{2} + \\frac{x^{3}}{6} + \\frac{x^{4}}{24} + \\frac{x^{5}}{120} + \\frac{x^{6}}{720} + \\frac{x^{7}}{5040} + \\frac{x^{8}}{40320} + \\frac{x^{9}}{362880} + \\frac{x^{10}}{3628800}$$"
      ],
      "text/plain": [
       "         2    3    4     5     6     7       8       9        10  \n",
       "        x    x    x     x     x     x       x       x        x    \n",
       "1 + x + ── + ── + ── + ─── + ─── + ──── + ───── + ────── + ───────\n",
       "        2    6    24   120   720   5040   40320   362880   3628800"
      ]
     },
     "metadata": {},
     "output_type": "display_data"
    },
    {
     "data": {
      "image/png": "[encoded data removed]",
      "text/plain": [
       "<matplotlib.figure.Figure at 0x2158a0e1550>"
      ]
     },
     "metadata": {},
     "output_type": "display_data"
    }
   ],
   "source": [
    "# Let's tail this off with plotting the first 10 taylors derived above (up to ten units in the series)\n",
    "xs      = np.arange(-2,4,0.1)\n",
    "ys      = np.exp(xs)\n",
    "yTaylor = []\n",
    "\n",
    "plt.figure(figsize=(15,15)),\n",
    "\n",
    "\n",
    "for taylor_i in taylors[0:10]:\n",
    "    print(\"Plotting: \")\n",
    "    display(taylor_i)\n",
    "    for xi in xs:\n",
    "        yTaylor.append( sp.N(taylor_i.subs(x,xi) ) )\n",
    "    \n",
    "    plt.plot(xs,yTaylor,color=\"red\")\n",
    "    yTaylor = []\n",
    "\n",
    "plt.plot(xs,ys,color = \"blue\")\n",
    "\n",
    "plt.title(\"Value of $e$ and Taylor Series Approximation\",fontsize=20)\n",
    "plt.ylabel(\"Y\",fontsize=20)\n",
    "plt.xlabel(\"X\",fontsize=20)\n",
    "\n",
    "plt.show()\n",
    "\n",
    "# Obviously the red lines that get closer to the blue line represent taylor series with more terms. "
   ]
  },
  {
   "cell_type": "markdown",
   "metadata": {},
   "source": [
    "Our current implementation is a general one and doesn't take into consideration the structure of the series. With a little creativity, it can be clear how we can linearlize the approximation or use dynamic programming/sub-solutions to make it more efficient. \n",
    "\n",
    "I hope this notebook showed you a bit about using the taylor series for numerical function approximation and some considerations of precision and differences between computing a value using sympy's symbolic packages versus the numeric ones. "
   ]
  }
 ],
 "metadata": {
  "kernelspec": {
   "display_name": "Python 3",
   "language": "python",
   "name": "python3"
  },
  "language_info": {
   "codemirror_mode": {
    "name": "ipython",
    "version": 3
   },
   "file_extension": ".py",
   "mimetype": "text/x-python",
   "name": "python",
   "nbconvert_exporter": "python",
   "pygments_lexer": "ipython3",
   "version": "3.5.4"
  }
 },
 "nbformat": 4,
 "nbformat_minor": 2
}
