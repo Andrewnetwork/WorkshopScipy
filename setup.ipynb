{
 "cells": [
  {
   "cell_type": "markdown",
   "metadata": {},
   "source": [
    "# Scientific Computing in Python Workshop - Setup"
   ]
  },
  {
   "cell_type": "markdown",
   "metadata": {},
   "source": [
    "Welcome to the workshop! We will begin by installing the required packages. Jupyter allows us to access the console with the ! symbol at the beginning of a cell. Take some time to look around the interface and aquaint yourself with Jupyter. \n",
    "\n",
    "**Note:** This installs requirements in the root conda environment. If you already have python installed before installing Anaconda Navigator, there may be some issues."
   ]
  },
  {
   "cell_type": "markdown",
   "metadata": {},
   "source": [
    "## Step 1: Install Requirements\n",
    "This step assumes you have launched the Jupyter Notebook sever from your Anaconda Navigator dashboard and have installed the Python 3.6 version. Click on the cell below and press ```shift+enter```. It will take some time. "
   ]
  },
  {
   "cell_type": "code",
   "execution_count": null,
   "metadata": {},
   "outputs": [],
   "source": [
    "!python -m pip install --user numpy scipy matplotlib ipython jupyter pandas sympy nose scikit-learn scikit-image ipywidgets tensorflow"
   ]
  },
  {
   "cell_type": "markdown",
   "metadata": {},
   "source": [
    "Enable the jupyter widgets extension to enable interactive ipython widgets to work in your notebooks. "
   ]
  },
  {
   "cell_type": "code",
   "execution_count": null,
   "metadata": {
    "collapsed": true
   },
   "outputs": [],
   "source": [
    "!jupyter nbextension enable --py widgetsnbextension"
   ]
  },
  {
   "cell_type": "markdown",
   "metadata": {},
   "source": [
    "## Step 2: Verify the requirments. \n",
    "Make sure everything is installed by pressing ```shift+enter``` on the cell below. It should quickly tell you that all requirements are satisfied.  "
   ]
  },
  {
   "cell_type": "code",
   "execution_count": null,
   "metadata": {
    "collapsed": true
   },
   "outputs": [],
   "source": [
    "!python -m pip install --user numpy scipy matplotlib ipython jupyter pandas sympy nose scikit-learn scikit-image tensorflow"
   ]
  },
  {
   "cell_type": "markdown",
   "metadata": {},
   "source": [
    "## Step 3: Enjoy!\n",
    "Enjoy your journey through scientific computing in python. Click on the Jupyter icon at the top of the page and navigate to the ```WorkshopScipy/Notebooks``` folder and explore the notebooks. "
   ]
  }
 ],
 "metadata": {
  "kernelspec": {
   "display_name": "Python 3",
   "language": "python",
   "name": "python3"
  },
  "language_info": {
   "codemirror_mode": {
    "name": "ipython",
    "version": 3
   },
   "file_extension": ".py",
   "mimetype": "text/x-python",
   "name": "python",
   "nbconvert_exporter": "python",
   "pygments_lexer": "ipython3",
   "version": "3.6.2"
  }
 },
 "nbformat": 4,
 "nbformat_minor": 2
}
